{
  "nbformat": 4,
  "nbformat_minor": 0,
  "metadata": {
    "colab": {
      "provenance": [],
      "gpuType": "T4",
      "authorship_tag": "ABX9TyOynooQ+OQr5Gr9+sPB5d1r",
      "include_colab_link": true
    },
    "kernelspec": {
      "name": "python3",
      "display_name": "Python 3"
    },
    "language_info": {
      "name": "python"
    }
  },
  "cells": [
    {
      "cell_type": "markdown",
      "metadata": {
        "id": "view-in-github",
        "colab_type": "text"
      },
      "source": [
        "<a href=\"https://colab.research.google.com/github/CelikAbdullah/deep-learning-notebooks/blob/main/Computer%20Vision/applications/image%20classification/Dog_Cats.ipynb\" target=\"_parent\"><img src=\"https://colab.research.google.com/assets/colab-badge.svg\" alt=\"Open In Colab\"/></a>"
      ]
    },
    {
      "cell_type": "markdown",
      "source": [
        "# Download the dataset from Kaggle"
      ],
      "metadata": {
        "id": "JmkTDohLf0BW"
      }
    },
    {
      "cell_type": "markdown",
      "source": [
        "The Dogs vs. Cats dataset we are going to use for image classification is not provided by Keras for us. It was made public by Kaggle in late 2013. It contains images of dogs and cats.\n",
        "\n",
        "To download the dataset, we perform the following steps:"
      ],
      "metadata": {
        "id": "mlz-IT7af53w"
      }
    },
    {
      "cell_type": "markdown",
      "source": [
        "First, we upload my API's key JSON file"
      ],
      "metadata": {
        "id": "5GvMq6aQf-Ax"
      }
    },
    {
      "cell_type": "code",
      "execution_count": 1,
      "metadata": {
        "colab": {
          "base_uri": "https://localhost:8080/",
          "height": 90
        },
        "id": "Z0HKH0d1fF8A",
        "outputId": "a4607d05-df87-4f1a-cd20-7ded5adb87f1"
      },
      "outputs": [
        {
          "output_type": "display_data",
          "data": {
            "text/plain": [
              "<IPython.core.display.HTML object>"
            ],
            "text/html": [
              "\n",
              "     <input type=\"file\" id=\"files-80e9ee1a-cb2e-4184-9ce6-e19cafaefa7b\" name=\"files[]\" multiple disabled\n",
              "        style=\"border:none\" />\n",
              "     <output id=\"result-80e9ee1a-cb2e-4184-9ce6-e19cafaefa7b\">\n",
              "      Upload widget is only available when the cell has been executed in the\n",
              "      current browser session. Please rerun this cell to enable.\n",
              "      </output>\n",
              "      <script>// Copyright 2017 Google LLC\n",
              "//\n",
              "// Licensed under the Apache License, Version 2.0 (the \"License\");\n",
              "// you may not use this file except in compliance with the License.\n",
              "// You may obtain a copy of the License at\n",
              "//\n",
              "//      http://www.apache.org/licenses/LICENSE-2.0\n",
              "//\n",
              "// Unless required by applicable law or agreed to in writing, software\n",
              "// distributed under the License is distributed on an \"AS IS\" BASIS,\n",
              "// WITHOUT WARRANTIES OR CONDITIONS OF ANY KIND, either express or implied.\n",
              "// See the License for the specific language governing permissions and\n",
              "// limitations under the License.\n",
              "\n",
              "/**\n",
              " * @fileoverview Helpers for google.colab Python module.\n",
              " */\n",
              "(function(scope) {\n",
              "function span(text, styleAttributes = {}) {\n",
              "  const element = document.createElement('span');\n",
              "  element.textContent = text;\n",
              "  for (const key of Object.keys(styleAttributes)) {\n",
              "    element.style[key] = styleAttributes[key];\n",
              "  }\n",
              "  return element;\n",
              "}\n",
              "\n",
              "// Max number of bytes which will be uploaded at a time.\n",
              "const MAX_PAYLOAD_SIZE = 100 * 1024;\n",
              "\n",
              "function _uploadFiles(inputId, outputId) {\n",
              "  const steps = uploadFilesStep(inputId, outputId);\n",
              "  const outputElement = document.getElementById(outputId);\n",
              "  // Cache steps on the outputElement to make it available for the next call\n",
              "  // to uploadFilesContinue from Python.\n",
              "  outputElement.steps = steps;\n",
              "\n",
              "  return _uploadFilesContinue(outputId);\n",
              "}\n",
              "\n",
              "// This is roughly an async generator (not supported in the browser yet),\n",
              "// where there are multiple asynchronous steps and the Python side is going\n",
              "// to poll for completion of each step.\n",
              "// This uses a Promise to block the python side on completion of each step,\n",
              "// then passes the result of the previous step as the input to the next step.\n",
              "function _uploadFilesContinue(outputId) {\n",
              "  const outputElement = document.getElementById(outputId);\n",
              "  const steps = outputElement.steps;\n",
              "\n",
              "  const next = steps.next(outputElement.lastPromiseValue);\n",
              "  return Promise.resolve(next.value.promise).then((value) => {\n",
              "    // Cache the last promise value to make it available to the next\n",
              "    // step of the generator.\n",
              "    outputElement.lastPromiseValue = value;\n",
              "    return next.value.response;\n",
              "  });\n",
              "}\n",
              "\n",
              "/**\n",
              " * Generator function which is called between each async step of the upload\n",
              " * process.\n",
              " * @param {string} inputId Element ID of the input file picker element.\n",
              " * @param {string} outputId Element ID of the output display.\n",
              " * @return {!Iterable<!Object>} Iterable of next steps.\n",
              " */\n",
              "function* uploadFilesStep(inputId, outputId) {\n",
              "  const inputElement = document.getElementById(inputId);\n",
              "  inputElement.disabled = false;\n",
              "\n",
              "  const outputElement = document.getElementById(outputId);\n",
              "  outputElement.innerHTML = '';\n",
              "\n",
              "  const pickedPromise = new Promise((resolve) => {\n",
              "    inputElement.addEventListener('change', (e) => {\n",
              "      resolve(e.target.files);\n",
              "    });\n",
              "  });\n",
              "\n",
              "  const cancel = document.createElement('button');\n",
              "  inputElement.parentElement.appendChild(cancel);\n",
              "  cancel.textContent = 'Cancel upload';\n",
              "  const cancelPromise = new Promise((resolve) => {\n",
              "    cancel.onclick = () => {\n",
              "      resolve(null);\n",
              "    };\n",
              "  });\n",
              "\n",
              "  // Wait for the user to pick the files.\n",
              "  const files = yield {\n",
              "    promise: Promise.race([pickedPromise, cancelPromise]),\n",
              "    response: {\n",
              "      action: 'starting',\n",
              "    }\n",
              "  };\n",
              "\n",
              "  cancel.remove();\n",
              "\n",
              "  // Disable the input element since further picks are not allowed.\n",
              "  inputElement.disabled = true;\n",
              "\n",
              "  if (!files) {\n",
              "    return {\n",
              "      response: {\n",
              "        action: 'complete',\n",
              "      }\n",
              "    };\n",
              "  }\n",
              "\n",
              "  for (const file of files) {\n",
              "    const li = document.createElement('li');\n",
              "    li.append(span(file.name, {fontWeight: 'bold'}));\n",
              "    li.append(span(\n",
              "        `(${file.type || 'n/a'}) - ${file.size} bytes, ` +\n",
              "        `last modified: ${\n",
              "            file.lastModifiedDate ? file.lastModifiedDate.toLocaleDateString() :\n",
              "                                    'n/a'} - `));\n",
              "    const percent = span('0% done');\n",
              "    li.appendChild(percent);\n",
              "\n",
              "    outputElement.appendChild(li);\n",
              "\n",
              "    const fileDataPromise = new Promise((resolve) => {\n",
              "      const reader = new FileReader();\n",
              "      reader.onload = (e) => {\n",
              "        resolve(e.target.result);\n",
              "      };\n",
              "      reader.readAsArrayBuffer(file);\n",
              "    });\n",
              "    // Wait for the data to be ready.\n",
              "    let fileData = yield {\n",
              "      promise: fileDataPromise,\n",
              "      response: {\n",
              "        action: 'continue',\n",
              "      }\n",
              "    };\n",
              "\n",
              "    // Use a chunked sending to avoid message size limits. See b/62115660.\n",
              "    let position = 0;\n",
              "    do {\n",
              "      const length = Math.min(fileData.byteLength - position, MAX_PAYLOAD_SIZE);\n",
              "      const chunk = new Uint8Array(fileData, position, length);\n",
              "      position += length;\n",
              "\n",
              "      const base64 = btoa(String.fromCharCode.apply(null, chunk));\n",
              "      yield {\n",
              "        response: {\n",
              "          action: 'append',\n",
              "          file: file.name,\n",
              "          data: base64,\n",
              "        },\n",
              "      };\n",
              "\n",
              "      let percentDone = fileData.byteLength === 0 ?\n",
              "          100 :\n",
              "          Math.round((position / fileData.byteLength) * 100);\n",
              "      percent.textContent = `${percentDone}% done`;\n",
              "\n",
              "    } while (position < fileData.byteLength);\n",
              "  }\n",
              "\n",
              "  // All done.\n",
              "  yield {\n",
              "    response: {\n",
              "      action: 'complete',\n",
              "    }\n",
              "  };\n",
              "}\n",
              "\n",
              "scope.google = scope.google || {};\n",
              "scope.google.colab = scope.google.colab || {};\n",
              "scope.google.colab._files = {\n",
              "  _uploadFiles,\n",
              "  _uploadFilesContinue,\n",
              "};\n",
              "})(self);\n",
              "</script> "
            ]
          },
          "metadata": {}
        },
        {
          "output_type": "stream",
          "name": "stdout",
          "text": [
            "Saving kaggle.json to kaggle.json\n"
          ]
        },
        {
          "output_type": "execute_result",
          "data": {
            "text/plain": [
              "{'kaggle.json': b'{\"username\":\"codingwitchac\",\"key\":\"75db4aef7de555ed6c056754eccc9a57\"}'}"
            ]
          },
          "metadata": {},
          "execution_count": 1
        }
      ],
      "source": [
        "from google.colab import files\n",
        "files.upload()"
      ]
    },
    {
      "cell_type": "markdown",
      "source": [
        "Now, we create a .kaggle folder and copy the JSON file into it"
      ],
      "metadata": {
        "id": "zcJo8202gKgB"
      }
    },
    {
      "cell_type": "code",
      "source": [
        "!rm -rf ~/.kaggle"
      ],
      "metadata": {
        "id": "yjXrv2yYgM7z"
      },
      "execution_count": 2,
      "outputs": []
    },
    {
      "cell_type": "code",
      "source": [
        "!mkdir ~/.kaggle"
      ],
      "metadata": {
        "id": "1RSjpM0FgO_J"
      },
      "execution_count": 3,
      "outputs": []
    },
    {
      "cell_type": "code",
      "source": [
        "!cp kaggle.json ~/.kaggle"
      ],
      "metadata": {
        "id": "OPv6_4fZgRAQ"
      },
      "execution_count": 4,
      "outputs": []
    },
    {
      "cell_type": "code",
      "source": [
        "!chmod 600 ~/.kaggle/kaggle.json"
      ],
      "metadata": {
        "id": "UxhA3FOhgUHK"
      },
      "execution_count": 5,
      "outputs": []
    },
    {
      "cell_type": "markdown",
      "source": [
        "After copying is done, we download the dogs-vs-cats dataset."
      ],
      "metadata": {
        "id": "4bRDcAESgVfB"
      }
    },
    {
      "cell_type": "code",
      "source": [
        "!kaggle competitions download -c dogs-vs-cats"
      ],
      "metadata": {
        "colab": {
          "base_uri": "https://localhost:8080/"
        },
        "id": "OE4gKCbmgbCh",
        "outputId": "4026b3d0-8a2d-4fb2-86ce-e4d8fc4f067c"
      },
      "execution_count": 6,
      "outputs": [
        {
          "output_type": "stream",
          "name": "stdout",
          "text": [
            "Downloading dogs-vs-cats.zip to /content\n",
            " 99% 804M/812M [00:05<00:00, 170MB/s]\n",
            "100% 812M/812M [00:05<00:00, 147MB/s]\n"
          ]
        }
      ]
    },
    {
      "cell_type": "markdown",
      "source": [
        "Now, we unzip the train.zip folder."
      ],
      "metadata": {
        "id": "bt7vcibqgbz3"
      }
    },
    {
      "cell_type": "code",
      "source": [
        "!unzip -qq dogs-vs-cats.zip"
      ],
      "metadata": {
        "id": "oHybmxXhgeov"
      },
      "execution_count": 7,
      "outputs": []
    },
    {
      "cell_type": "code",
      "source": [
        "!unzip -qq train.zip"
      ],
      "metadata": {
        "id": "Myaseccjge3z"
      },
      "execution_count": 8,
      "outputs": []
    },
    {
      "cell_type": "markdown",
      "source": [
        "# Create a training, validation and test set"
      ],
      "metadata": {
        "id": "NYKz7kSagiWi"
      }
    },
    {
      "cell_type": "code",
      "source": [
        "import os, shutil, pathlib"
      ],
      "metadata": {
        "id": "naTVt1iGgnBo"
      },
      "execution_count": 9,
      "outputs": []
    },
    {
      "cell_type": "code",
      "source": [
        "original_dir = pathlib.Path(\"train\")\n",
        "new_base_dir = pathlib.Path(\"cats_vs_dogs_dataset\")"
      ],
      "metadata": {
        "id": "dagYOgC1gp1R"
      },
      "execution_count": 10,
      "outputs": []
    },
    {
      "cell_type": "code",
      "source": [
        "def create_dataset(subset_name, start_index, end_index):\n",
        "  for category in (\"cat\", \"dog\"):\n",
        "    dir = new_base_dir/subset_name/category\n",
        "    os.makedirs(dir)\n",
        "\n",
        "    fnames = [f\"{category}.{i}.jpg\" for i in range(start_index, end_index)]\n",
        "\n",
        "    for fname in fnames:\n",
        "      shutil.copyfile(src=original_dir/fname, dst=dir/fname)"
      ],
      "metadata": {
        "id": "TTg1R3gVgqqU"
      },
      "execution_count": 11,
      "outputs": []
    },
    {
      "cell_type": "code",
      "source": [
        "create_dataset(\"train\", start_index=0, end_index=11500)\n",
        "create_dataset(\"validation\",start_index=11500, end_index=12000)\n",
        "create_dataset(\"test\", start_index=12000, end_index=12500)"
      ],
      "metadata": {
        "id": "iwmFFbsegs-T"
      },
      "execution_count": 12,
      "outputs": []
    },
    {
      "cell_type": "markdown",
      "source": [
        "# Create the model"
      ],
      "metadata": {
        "id": "9Ye2Cs84gvbZ"
      }
    },
    {
      "cell_type": "markdown",
      "source": [
        "A convolutional neural network (CNN) performs recognition by detecting and classifying features (patterns). A convolutional layer is used to detect features within an image. To achieve that, it uses a bunch of filters. Each filter acts as a feature detector looking for a certain pattern. We can think of a filter as a small window sliding over the input to detect a pattern. At each location, an operation (involving the pixel values at that location & the filter values) is performed to detect the likely presence of a particular feature. That operation will generate a value which indicates how strongly the feature was detected at that location in the image. After that operation is made to every location in the input, the filter has created a so called \"feature map\" which is a mapping that indicates how strongly the feature (the filter was looking for) is detected at a particular location in the input.\n",
        "\n",
        "From a technical point of view, filters are matrices containing the weights that are learned by the network during training. At the beginning, they are initalized randomly and then get updated by the optimizer after each epoch based on the loss.\n",
        "\n",
        "A very simple CNN consists of a feature extraction part and a classification part. In general, the feature extraction part uses a stack of convolutional layers to extract features (patterns) from the input data and pooling layers to downsample the feature maps produced by the filters of the convolutional layers. In the following, you can see a function used to build such a feature extraction component of a CNN:"
      ],
      "metadata": {
        "id": "NH39D2CGg4Qv"
      }
    },
    {
      "cell_type": "code",
      "source": [
        "from tensorflow import keras"
      ],
      "metadata": {
        "id": "H6Khbbk7mn4v"
      },
      "execution_count": 13,
      "outputs": []
    },
    {
      "cell_type": "code",
      "source": [
        "# define the part that performs the feature extraction\n",
        "def extractFeatures(rescaled_inputs):\n",
        "\n",
        "  x = keras.layers.Conv2D(filters=32, kernel_size=3, activation=\"relu\")(rescaled_inputs)\n",
        "  x = keras.layers.MaxPooling2D(pool_size=2)(x)\n",
        "  x = keras.layers.Conv2D(filters=64, kernel_size=3, activation=\"relu\")(x)\n",
        "  x = keras.layers.MaxPooling2D(pool_size=2)(x)\n",
        "  x = keras.layers.Conv2D(filters=128, kernel_size=3, activation=\"relu\")(x)\n",
        "  x = keras.layers.MaxPooling2D(pool_size=2)(x)\n",
        "  x = keras.layers.Conv2D(filters=256, kernel_size=3, activation=\"relu\")(x)\n",
        "  x = keras.layers.MaxPooling2D(pool_size=2)(x)\n",
        "  x = keras.layers.Conv2D(filters=256, kernel_size=3, activation=\"relu\")(x)\n",
        "\n",
        "  return x"
      ],
      "metadata": {
        "id": "b85jLh2pg6pD"
      },
      "execution_count": 14,
      "outputs": []
    },
    {
      "cell_type": "markdown",
      "source": [
        "We specify the following in a convolutional layer:\n",
        "\n",
        "*   **the number of filters**; each filter is looking for a particular feature and producing a feature map\n",
        "*   **the size of the filters**; usually 3x3\n",
        "*   **stride**; the rate that the filter is slid across the input\n",
        "*   **padding**; to decide whether the pixel values at the edge of the input will be taken into account or not  "
      ],
      "metadata": {
        "id": "3UY_XhAEhEwt"
      }
    },
    {
      "cell_type": "markdown",
      "source": [
        "The idea behind such a network:\n",
        "\n",
        "\n",
        "*   early layers learn coarse features\n",
        "*   the subsequent layers learn finer features by increasing the number of filters\n",
        "*   the max pooling layer is used between the conv layers to minimize the dimensions of the feature maps"
      ],
      "metadata": {
        "id": "Wps3RosAhGOO"
      }
    },
    {
      "cell_type": "markdown",
      "source": [
        "As mentioned, the other part of CNN is the component performing the classification. Since the output coming from the feature extraction part is a 3D tensor, we have to flatten the input before it gets passed to the first Dense layer. Note that a Dense layer expects a 1D tensor as input.\n",
        "\n",
        "Typically, this part contains some Dense layers to perform a specific task (such as image classification).\n",
        "In our case, we have just one Dense layer with one neuron that creates the output of the network:"
      ],
      "metadata": {
        "id": "_ZdtoJUhhMFv"
      }
    },
    {
      "cell_type": "code",
      "source": [
        "# define the part that performs the classification\n",
        "def classification(features):\n",
        "  # flatten the input\n",
        "  x = keras.layers.Flatten()(features)\n",
        "  x = keras.layers.Dense(1, activation=\"sigmoid\")(x)\n",
        "\n",
        "  return x"
      ],
      "metadata": {
        "id": "SFKZAka_hOf-"
      },
      "execution_count": 15,
      "outputs": []
    },
    {
      "cell_type": "markdown",
      "source": [
        "Since we have a binary classification problem (dog or cat), we put a Dense layer with one neuron and a sigmoid activation function at the end of the classification part."
      ],
      "metadata": {
        "id": "KVj61qkFhP3d"
      }
    },
    {
      "cell_type": "markdown",
      "source": [
        "After putting all pieces together, we can create model using the Functional API as you can see below:"
      ],
      "metadata": {
        "id": "hjlLzMTohWmR"
      }
    },
    {
      "cell_type": "code",
      "source": [
        "# define the input shape\n",
        "inputs = keras.Input(shape=(90,90,3))\n",
        "\n",
        "# normalize the input data to speed up the learning process (it is better when the pixel values are all in the same range)\n",
        "rescaled_inputs = keras.layers.Rescaling(1./255)(inputs)\n",
        "\n",
        "# build the feature extraction component\n",
        "features = extractFeatures(rescaled_inputs)\n",
        "\n",
        "# build the classification component\n",
        "outputs =  classification(features)\n",
        "\n",
        "# build the model\n",
        "model = keras.Model(inputs=inputs, outputs=outputs, name=\"my_cnn_model\")"
      ],
      "metadata": {
        "id": "jUP2QWX7ha4Y"
      },
      "execution_count": 16,
      "outputs": []
    },
    {
      "cell_type": "code",
      "source": [
        "model.summary()"
      ],
      "metadata": {
        "colab": {
          "base_uri": "https://localhost:8080/"
        },
        "id": "yFph1zWghdvD",
        "outputId": "288f68e6-47f1-4d02-e519-73591918c6b9"
      },
      "execution_count": 17,
      "outputs": [
        {
          "output_type": "stream",
          "name": "stdout",
          "text": [
            "Model: \"my_cnn_model\"\n",
            "_________________________________________________________________\n",
            " Layer (type)                Output Shape              Param #   \n",
            "=================================================================\n",
            " input_1 (InputLayer)        [(None, 90, 90, 3)]       0         \n",
            "                                                                 \n",
            " rescaling (Rescaling)       (None, 90, 90, 3)         0         \n",
            "                                                                 \n",
            " conv2d (Conv2D)             (None, 88, 88, 32)        896       \n",
            "                                                                 \n",
            " max_pooling2d (MaxPooling2D  (None, 44, 44, 32)       0         \n",
            " )                                                               \n",
            "                                                                 \n",
            " conv2d_1 (Conv2D)           (None, 42, 42, 64)        18496     \n",
            "                                                                 \n",
            " max_pooling2d_1 (MaxPooling  (None, 21, 21, 64)       0         \n",
            " 2D)                                                             \n",
            "                                                                 \n",
            " conv2d_2 (Conv2D)           (None, 19, 19, 128)       73856     \n",
            "                                                                 \n",
            " max_pooling2d_2 (MaxPooling  (None, 9, 9, 128)        0         \n",
            " 2D)                                                             \n",
            "                                                                 \n",
            " conv2d_3 (Conv2D)           (None, 7, 7, 256)         295168    \n",
            "                                                                 \n",
            " max_pooling2d_3 (MaxPooling  (None, 3, 3, 256)        0         \n",
            " 2D)                                                             \n",
            "                                                                 \n",
            " conv2d_4 (Conv2D)           (None, 1, 1, 256)         590080    \n",
            "                                                                 \n",
            " flatten (Flatten)           (None, 256)               0         \n",
            "                                                                 \n",
            " dense (Dense)               (None, 1)                 257       \n",
            "                                                                 \n",
            "=================================================================\n",
            "Total params: 978,753\n",
            "Trainable params: 978,753\n",
            "Non-trainable params: 0\n",
            "_________________________________________________________________\n"
          ]
        }
      ]
    },
    {
      "cell_type": "markdown",
      "source": [
        "As we can see, the model consists of a stack of Conv2D and MaxPooling2D layers. A typical pattern see from the output of each layer: **the depth of the feature maps increases and the size (width & height) of the feature maps decreases**."
      ],
      "metadata": {
        "id": "sSxKdvoBhirU"
      }
    },
    {
      "cell_type": "markdown",
      "source": [
        "# Configure the training"
      ],
      "metadata": {
        "id": "QbKXO5ULhkPg"
      }
    },
    {
      "cell_type": "markdown",
      "source": [
        "In this step, we prepare the model for the training process. That means, we tell the model which loss function to use (here: BinaryCrossEntropy), which optimizer to use to update the parameters (here: Adam) and the metric (here: accuracy).\n",
        "\n",
        "After defining that setting, we invoke the compile() method on our model."
      ],
      "metadata": {
        "id": "oXVpnc74hm3F"
      }
    },
    {
      "cell_type": "code",
      "source": [
        "# define the optimizer\n",
        "optimizer = keras.optimizers.Adam(learning_rate=0.0001)\n",
        "\n",
        "# compile the optimizer\n",
        "model.compile(loss=\"binary_crossentropy\", optimizer=optimizer, metrics=[\"accuracy\"])"
      ],
      "metadata": {
        "id": "4pOZmhoJhq2-"
      },
      "execution_count": 18,
      "outputs": []
    },
    {
      "cell_type": "markdown",
      "source": [
        "# Get the data from the directory"
      ],
      "metadata": {
        "id": "VpNnVqvHhuM5"
      }
    },
    {
      "cell_type": "markdown",
      "source": [
        "Using the utility image_dataset_from_directory() function from the keras.utils package, we can bring the images located in the directory to the model. It helps us to build a data pipeline able to turn image files on disk into batches of preprocessed tensors."
      ],
      "metadata": {
        "id": "Pwx1LMYrhziD"
      }
    },
    {
      "cell_type": "code",
      "source": [
        "base_direction = \"/content/cats_vs_dogs_dataset/\"\n",
        "\n",
        "train_dataset = keras.utils.image_dataset_from_directory(\n",
        "    base_direction +  \"train\",\n",
        "    image_size = (90,90),\n",
        "    batch_size = 32\n",
        ")\n",
        "\n",
        "validation_dataset = keras.utils.image_dataset_from_directory(\n",
        "    base_direction + \"validation\",\n",
        "    image_size = (90,90),\n",
        "    batch_size = 32\n",
        ")\n",
        "\n",
        "test_dataset = keras.utils.image_dataset_from_directory(\n",
        "    base_direction + \"test\",\n",
        "    image_size = (90,90),\n",
        "    batch_size = 32\n",
        ")"
      ],
      "metadata": {
        "colab": {
          "base_uri": "https://localhost:8080/"
        },
        "id": "4-QTGG-ih_CO",
        "outputId": "09a213b4-635b-415c-8882-bd4a14ad0882"
      },
      "execution_count": 19,
      "outputs": [
        {
          "output_type": "stream",
          "name": "stdout",
          "text": [
            "Found 23000 files belonging to 2 classes.\n",
            "Found 1000 files belonging to 2 classes.\n",
            "Found 1000 files belonging to 2 classes.\n"
          ]
        }
      ]
    },
    {
      "cell_type": "markdown",
      "source": [
        "# Define callbacks"
      ],
      "metadata": {
        "id": "XTIdjSPkiDhS"
      }
    },
    {
      "cell_type": "markdown",
      "source": [
        "In the following, we define two callbacks:\n",
        "\n",
        "\n",
        "*   **ModelCheckPoint**\n",
        "*   **EarlyStopping**\n",
        "\n",
        "The **ModelCheckPoint** callback can be used to save the model (its weights). Since we passed the arguments **save_best_only=True** and **monitor=\"val_loss\"**, it saves our model as a new file only then when the model reaches a lower validation loss compared to a previous epoch.\n",
        "\n",
        "As the name implies, the **EarlyStopping** callback is used to stop the training process if the training does not get better. In our case, by passing the arguments **monitor=\"val_accuracy\"** and **patience=2**, we tell the callback to stop the training process when the validation accuracy values does not get higher for two epochs."
      ],
      "metadata": {
        "id": "JWEFru65iFs6"
      }
    },
    {
      "cell_type": "code",
      "source": [
        "callbacks = [\n",
        "    # save the model whenever the validation loss gets lower\n",
        "    keras.callbacks.ModelCheckpoint(filepath=\"/content/drive/MyDrive/my_cnn_model.keras\",\n",
        "                                    save_best_only=True,\n",
        "                                    monitor=\"val_loss\"),\n",
        "    # stop training when the validation accuracy is not getting higher for two epochs\n",
        "    keras.callbacks.EarlyStopping(monitor=\"val_accuracy\", patience=2)\n",
        "]"
      ],
      "metadata": {
        "id": "4Ia5vG_3iKlk"
      },
      "execution_count": 20,
      "outputs": []
    },
    {
      "cell_type": "markdown",
      "source": [
        "# Train the model"
      ],
      "metadata": {
        "id": "BRIJtJTCiSzS"
      }
    },
    {
      "cell_type": "markdown",
      "source": [
        "We can start the training process using the fit() method. Here, we only specify the dataset for training, the dataset for validation, the epoch number and the callbacks that should be used."
      ],
      "metadata": {
        "id": "FKOluNR-iWzW"
      }
    },
    {
      "cell_type": "code",
      "source": [
        "history = model.fit(train_dataset,\n",
        "                    epochs=5,\n",
        "                    validation_data=validation_dataset,\n",
        "                    callbacks=callbacks\n",
        ")"
      ],
      "metadata": {
        "colab": {
          "base_uri": "https://localhost:8080/"
        },
        "id": "K77YEXhtiYGe",
        "outputId": "01a01138-2255-406b-f0df-fc3db3dfe8b7"
      },
      "execution_count": 21,
      "outputs": [
        {
          "output_type": "stream",
          "name": "stdout",
          "text": [
            "Epoch 1/5\n",
            "719/719 [==============================] - 513s 711ms/step - loss: 0.6280 - accuracy: 0.6321 - val_loss: 0.5487 - val_accuracy: 0.7220\n",
            "Epoch 2/5\n",
            "719/719 [==============================] - 502s 697ms/step - loss: 0.5030 - accuracy: 0.7526 - val_loss: 0.4942 - val_accuracy: 0.7510\n",
            "Epoch 3/5\n",
            "719/719 [==============================] - 494s 687ms/step - loss: 0.4405 - accuracy: 0.7937 - val_loss: 0.4477 - val_accuracy: 0.7940\n",
            "Epoch 4/5\n",
            "719/719 [==============================] - 489s 680ms/step - loss: 0.3931 - accuracy: 0.8211 - val_loss: 0.4208 - val_accuracy: 0.8110\n",
            "Epoch 5/5\n",
            "719/719 [==============================] - 488s 678ms/step - loss: 0.3568 - accuracy: 0.8427 - val_loss: 0.4168 - val_accuracy: 0.8180\n"
          ]
        }
      ]
    },
    {
      "cell_type": "markdown",
      "source": [
        "# Plot the results"
      ],
      "metadata": {
        "id": "oz_5yvNPik2U"
      }
    },
    {
      "cell_type": "markdown",
      "source": [
        "In this step, we can use the history object returned by the fit() method earlier to plot all the accuracy and losses on the training"
      ],
      "metadata": {
        "id": "VjY1k3zbine8"
      }
    },
    {
      "cell_type": "code",
      "source": [
        "import matplotlib.pyplot as plt"
      ],
      "metadata": {
        "id": "7g41oZaNirUS"
      },
      "execution_count": 22,
      "outputs": []
    },
    {
      "cell_type": "code",
      "source": [
        "# define a function we can use to print the training and validation loss\n",
        "def printTrainingAndValidationLoss(history):\n",
        "  losses = history.history[\"loss\"]\n",
        "  val_losses = history.history[\"val_loss\"]\n",
        "  epochs = range(1, len(val_losses) + 1)\n",
        "\n",
        "  plt.plot(epochs, losses, color=\"red\", linestyle=\"solid\", label=\"Traininig loss\", linewidth=3)\n",
        "  plt.plot(epochs, val_losses, color=\"green\", linestyle=\"solid\", label=\"Validation loss\", linewidth=3)\n",
        "\n",
        "  plt.title(\"Training and validation losses\")\n",
        "  plt.xlabel(\"Epochs\")\n",
        "  plt.ylabel(\"Loss\")\n",
        "  plt.legend()\n",
        "  plt.show()"
      ],
      "metadata": {
        "id": "2EPozyLvivnW"
      },
      "execution_count": 23,
      "outputs": []
    },
    {
      "cell_type": "code",
      "source": [
        "# define a function we can use to print the training and validation accuracy\n",
        "def printTrainingAndValidationAccuracy(history):\n",
        "  acc = history.history[\"accuracy\"]\n",
        "  val_acc = history.history[\"val_accuracy\"]\n",
        "  epochs = range(1, len(val_acc) + 1)\n",
        "  plt.plot(epochs, acc, color=\"red\", linestyle=\"solid\", label=\"Traininig accuracy\", linewidth=3)\n",
        "  plt.plot(epochs, val_acc, color=\"green\", linestyle=\"solid\", label=\"Validation accuracy\", linewidth=3)\n",
        "\n",
        "  plt.title(\"Training and validation accuracy\")\n",
        "  plt.xlabel(\"Epochs\")\n",
        "  plt.ylabel(\"Accuracy\")\n",
        "  plt.legend()\n",
        "  plt.show()"
      ],
      "metadata": {
        "id": "QYMOtOW9iyJM"
      },
      "execution_count": 24,
      "outputs": []
    },
    {
      "cell_type": "code",
      "source": [
        "# print the training and validation accuracy\n",
        "printTrainingAndValidationAccuracy(history)"
      ],
      "metadata": {
        "colab": {
          "base_uri": "https://localhost:8080/",
          "height": 472
        },
        "id": "skLg_ybDi1wO",
        "outputId": "42441b83-4b7b-43f6-f852-4836a1d4526e"
      },
      "execution_count": 25,
      "outputs": [
        {
          "output_type": "display_data",
          "data": {
            "text/plain": [
              "<Figure size 640x480 with 1 Axes>"
            ],
            "image/png": "[encoded data removed]"
          },
          "metadata": {}
        }
      ]
    },
    {
      "cell_type": "code",
      "source": [
        "# print the training and validation loss\n",
        "printTrainingAndValidationLoss(history)"
      ],
      "metadata": {
        "colab": {
          "base_uri": "https://localhost:8080/",
          "height": 472
        },
        "id": "KKwfleRGi44r",
        "outputId": "0d01ef24-e3ec-4595-9702-76783058ffdf"
      },
      "execution_count": 26,
      "outputs": [
        {
          "output_type": "display_data",
          "data": {
            "text/plain": [
              "<Figure size 640x480 with 1 Axes>"
            ],
            "image/png": "[encoded data removed]"
          },
          "metadata": {}
        }
      ]
    },
    {
      "cell_type": "markdown",
      "source": [
        "We can observe that the model starts overfitting after 3th epoch. From then on, the validation accuracy is decreasing, while the training accuracy is increasing. That means that the model is memorizing the the input and does not generalize. If we look at the training and validation losses, we can also see signs of overfitting: the training loss is decreasing (the model has a good performance on the training data) but the validation loss is increasing (the model has a bad performance on the validation data)."
      ],
      "metadata": {
        "id": "wneKyGSo5WxL"
      }
    },
    {
      "cell_type": "markdown",
      "source": [
        "# Evaluate the model"
      ],
      "metadata": {
        "id": "l2LwsVRZi-wo"
      }
    },
    {
      "cell_type": "markdown",
      "source": [
        "After training, we evaluate our model by calling the evaluate() method. It evaluates our trained model by passing it the test dataset which contains dog and cat images it has never seen before."
      ],
      "metadata": {
        "id": "i9G-d_oTjA4s"
      }
    },
    {
      "cell_type": "code",
      "source": [
        "model.evaluate(test_dataset)"
      ],
      "metadata": {
        "colab": {
          "base_uri": "https://localhost:8080/"
        },
        "id": "YZHGG_rxjEZn",
        "outputId": "5ee0b6c1-ade1-4495-ebb6-1f639394f54c"
      },
      "execution_count": 27,
      "outputs": [
        {
          "output_type": "stream",
          "name": "stdout",
          "text": [
            "32/32 [==============================] - 7s 214ms/step - loss: 0.3873 - accuracy: 0.8380\n"
          ]
        },
        {
          "output_type": "execute_result",
          "data": {
            "text/plain": [
              "[0.38725391030311584, 0.8379999995231628]"
            ]
          },
          "metadata": {},
          "execution_count": 27
        }
      ]
    },
    {
      "cell_type": "markdown",
      "source": [
        "As we can see from the output, our trained model reaches a test accuracy of about 83%.  "
      ],
      "metadata": {
        "id": "cYfjn0ztjILa"
      }
    }
  ]
}