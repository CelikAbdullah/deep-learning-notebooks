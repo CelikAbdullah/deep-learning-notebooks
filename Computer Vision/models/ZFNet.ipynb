{
  "nbformat": 4,
  "nbformat_minor": 0,
  "metadata": {
    "colab": {
      "provenance": [],
      "authorship_tag": "ABX9TyNxFMthpVP0wprSArbYIsie",
      "include_colab_link": true
    },
    "kernelspec": {
      "name": "python3",
      "display_name": "Python 3"
    },
    "language_info": {
      "name": "python"
    }
  },
  "cells": [
    {
      "cell_type": "markdown",
      "metadata": {
        "id": "view-in-github",
        "colab_type": "text"
      },
      "source": [
        "<a href=\"https://colab.research.google.com/github/CelikAbdullah/deep-learning-notebooks/blob/main/Computer%20Vision/models/ZFNet.ipynb\" target=\"_parent\"><img src=\"https://colab.research.google.com/assets/colab-badge.svg\" alt=\"Open In Colab\"/></a>"
      ]
    },
    {
      "cell_type": "code",
      "execution_count": 7,
      "metadata": {
        "id": "pcSAcbTVHaFW"
      },
      "outputs": [],
      "source": [
        "from tensorflow import keras"
      ]
    },
    {
      "cell_type": "markdown",
      "source": [
        "# ZFNet"
      ],
      "metadata": {
        "id": "ZabUKVeYHm3K"
      }
    },
    {
      "cell_type": "markdown",
      "source": [
        "## The stem component"
      ],
      "metadata": {
        "id": "KMdxgDWHHpIS"
      }
    },
    {
      "cell_type": "code",
      "source": [
        "def stem(inputs):\n",
        "  \"\"\" Build the stem component of ZFNet\n",
        "      inputs : the input vector\n",
        "  \"\"\"\n",
        "\n",
        "  # create the first convolutional layer which uses an extremely large (coarse) filter\n",
        "  x = keras.layers.Conv2D(96, (7, 7), strides=(2, 2), padding='same')(inputs)\n",
        "  x = keras.layers.ReLU()(x)\n",
        "\n",
        "  # create the second convolutional layer\n",
        "  x = keras.layers.Conv2D(256, (5, 5), strides=(2, 2), padding='same')(x)\n",
        "  x = keras.layers.ReLU()(x)\n",
        "\n",
        "  # apply a 3x3 max pooling; the pooled feature maps will be reduced by 75%\n",
        "  x = keras.layers.MaxPooling2D((3, 3), strides=(2, 2))(x)\n",
        "\n",
        "  return x"
      ],
      "metadata": {
        "id": "WrU2GLYUHobY"
      },
      "execution_count": 8,
      "outputs": []
    },
    {
      "cell_type": "markdown",
      "source": [
        "## The learner component"
      ],
      "metadata": {
        "id": "Ew4l6tV7IENx"
      }
    },
    {
      "cell_type": "code",
      "source": [
        "def learner(x):\n",
        "  \"\"\" Build the learner component of ZFNet\n",
        "      x     : input to the learner\n",
        "  \"\"\"\n",
        "\n",
        "  # create the third convolutional layer\n",
        "  x = keras.layers.Conv2D(filters=384, kernel_size=3, strides=1, padding='same')(x)\n",
        "  x = keras.layers.ReLU()(x)\n",
        "\n",
        "  # apply a 3x3 max pooling; pooled feature maps will be reduced by 75%\n",
        "  x = keras.layers.MaxPooling2D((3, 3), strides=(2, 2))(x)\n",
        "\n",
        "  # create the fourth convolutional layer\n",
        "  x = keras.layers.Conv2D(filters=384, kernel_size=3, strides=1, padding='same')(x)\n",
        "  x = keras.layers.ReLU()(x)\n",
        "\n",
        "  # create the fifth convolutional layer\n",
        "  x = keras.layers.Conv2D(filters=256, kernel_size=3, strides=1, padding='same')(x)\n",
        "  x = keras.layers.ReLU()(x)\n",
        "\n",
        "  # apply a 3x3 max pooling; pooled feature maps will be reduced by 75%\n",
        "  x = keras.layers.MaxPooling2D((3, 3), strides=(2, 2))(x)\n",
        "\n",
        "  return x"
      ],
      "metadata": {
        "id": "swHHEvyRIF3o"
      },
      "execution_count": 9,
      "outputs": []
    },
    {
      "cell_type": "markdown",
      "source": [
        "## The task component"
      ],
      "metadata": {
        "id": "6pBarbHaI3NE"
      }
    },
    {
      "cell_type": "code",
      "source": [
        "def task(x, n_classes):\n",
        "  \"\"\" Build the task component\n",
        "      x         : input to the classifier\n",
        "      n_classes : number of output classes\n",
        "  \"\"\"\n",
        "  # flatten into 1D vector\n",
        "  x = keras.layers.Flatten()(x)\n",
        "  # create two dense layers of 4096\n",
        "  x = keras.layers.Dense(units=4096, activation='relu')(x)\n",
        "  x = keras.layers.Dense(units=4096, activation='relu')(x)\n",
        "  # softmax layer\n",
        "  outputs = keras.layers.Dense(n_classes, activation='softmax')(x)\n",
        "\n",
        "  return outputs"
      ],
      "metadata": {
        "id": "K-BS0N9uIF8t"
      },
      "execution_count": 10,
      "outputs": []
    },
    {
      "cell_type": "markdown",
      "source": [
        "## The ZFNet model"
      ],
      "metadata": {
        "id": "VsPXJm55JJdR"
      }
    },
    {
      "cell_type": "code",
      "source": [
        "def build_zfnet(shape=(224, 224,3), classes=1000):\n",
        "  # input tensor\n",
        "  inputs = keras.Input(shape=shape)\n",
        "  # stem component\n",
        "  x = stem(inputs)\n",
        "  # learner component\n",
        "  x = learner(x)\n",
        "  # task component\n",
        "  outputs = task(x, classes)\n",
        "\n",
        "  # instantiate and return the Model\n",
        "  return keras.Model(inputs=inputs, outputs=outputs, name=\"ZFNet\")"
      ],
      "metadata": {
        "id": "Ae8zERhBJLd5"
      },
      "execution_count": 11,
      "outputs": []
    },
    {
      "cell_type": "code",
      "source": [
        "# create the ZFNet model\n",
        "zfnet_model = build_zfnet()\n",
        "# print summary of ZFNet model\n",
        "zfnet_model.summary()"
      ],
      "metadata": {
        "colab": {
          "base_uri": "https://localhost:8080/"
        },
        "id": "f2YmEqB9JuJi",
        "outputId": "a64d626a-dbb1-47a7-d1ab-326634220990"
      },
      "execution_count": 12,
      "outputs": [
        {
          "output_type": "stream",
          "name": "stdout",
          "text": [
            "Model: \"ZFNet\"\n",
            "_________________________________________________________________\n",
            " Layer (type)                Output Shape              Param #   \n",
            "=================================================================\n",
            " input_2 (InputLayer)        [(None, 224, 224, 3)]     0         \n",
            "                                                                 \n",
            " conv2d_5 (Conv2D)           (None, 112, 112, 96)      14208     \n",
            "                                                                 \n",
            " re_lu_5 (ReLU)              (None, 112, 112, 96)      0         \n",
            "                                                                 \n",
            " conv2d_6 (Conv2D)           (None, 56, 56, 256)       614656    \n",
            "                                                                 \n",
            " re_lu_6 (ReLU)              (None, 56, 56, 256)       0         \n",
            "                                                                 \n",
            " max_pooling2d_3 (MaxPoolin  (None, 27, 27, 256)       0         \n",
            " g2D)                                                            \n",
            "                                                                 \n",
            " conv2d_7 (Conv2D)           (None, 27, 27, 384)       885120    \n",
            "                                                                 \n",
            " re_lu_7 (ReLU)              (None, 27, 27, 384)       0         \n",
            "                                                                 \n",
            " max_pooling2d_4 (MaxPoolin  (None, 13, 13, 384)       0         \n",
            " g2D)                                                            \n",
            "                                                                 \n",
            " conv2d_8 (Conv2D)           (None, 13, 13, 384)       1327488   \n",
            "                                                                 \n",
            " re_lu_8 (ReLU)              (None, 13, 13, 384)       0         \n",
            "                                                                 \n",
            " conv2d_9 (Conv2D)           (None, 13, 13, 256)       884992    \n",
            "                                                                 \n",
            " re_lu_9 (ReLU)              (None, 13, 13, 256)       0         \n",
            "                                                                 \n",
            " max_pooling2d_5 (MaxPoolin  (None, 6, 6, 256)         0         \n",
            " g2D)                                                            \n",
            "                                                                 \n",
            " flatten_1 (Flatten)         (None, 9216)              0         \n",
            "                                                                 \n",
            " dense_3 (Dense)             (None, 4096)              37752832  \n",
            "                                                                 \n",
            " dense_4 (Dense)             (None, 4096)              16781312  \n",
            "                                                                 \n",
            " dense_5 (Dense)             (None, 1000)              4097000   \n",
            "                                                                 \n",
            "=================================================================\n",
            "Total params: 62357608 (237.88 MB)\n",
            "Trainable params: 62357608 (237.88 MB)\n",
            "Non-trainable params: 0 (0.00 Byte)\n",
            "_________________________________________________________________\n"
          ]
        }
      ]
    }
  ]
}