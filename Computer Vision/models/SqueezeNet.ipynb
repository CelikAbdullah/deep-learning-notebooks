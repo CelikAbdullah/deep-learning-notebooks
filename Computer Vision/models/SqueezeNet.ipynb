{
  "nbformat": 4,
  "nbformat_minor": 0,
  "metadata": {
    "colab": {
      "provenance": [],
      "toc_visible": true,
      "authorship_tag": "ABX9TyOUb18iV1jfoc+DVVxCtd7S",
      "include_colab_link": true
    },
    "kernelspec": {
      "name": "python3",
      "display_name": "Python 3"
    },
    "language_info": {
      "name": "python"
    }
  },
  "cells": [
    {
      "cell_type": "markdown",
      "metadata": {
        "id": "view-in-github",
        "colab_type": "text"
      },
      "source": [
        "<a href=\"https://colab.research.google.com/github/CelikAbdullah/deep-learning-notebooks/blob/main/Computer%20Vision/models/SqueezeNet.ipynb\" target=\"_parent\"><img src=\"https://colab.research.google.com/assets/colab-badge.svg\" alt=\"Open In Colab\"/></a>"
      ]
    },
    {
      "cell_type": "code",
      "execution_count": 1,
      "metadata": {
        "id": "nNqNC6_u5DiX"
      },
      "outputs": [],
      "source": [
        "from tensorflow import keras"
      ]
    },
    {
      "cell_type": "markdown",
      "source": [
        "# SqueezeNet"
      ],
      "metadata": {
        "id": "gKqPu0hT5JYu"
      }
    },
    {
      "cell_type": "markdown",
      "source": [
        "## The stem component"
      ],
      "metadata": {
        "id": "p2o18OFz5Obe"
      }
    },
    {
      "cell_type": "code",
      "source": [
        "def stem(inputs):\n",
        "  ''' Build the stem component of the SqueezeNet.\n",
        "      inputs: the input tensor\n",
        "  '''\n",
        "\n",
        "  # a strided 7x7 conv layer followed by a 3x3 max pooling\n",
        "  x = keras.layers.Conv2D(filters=96, kernel_size=7, strides=2, padding='same', activation='relu', kernel_initializer='glorot_uniform')(inputs)\n",
        "  x = keras.layers.MaxPooling2D(3, strides=2)(x)\n",
        "\n",
        "  return x"
      ],
      "metadata": {
        "id": "1j7YJ89t5N3-"
      },
      "execution_count": 2,
      "outputs": []
    },
    {
      "cell_type": "markdown",
      "source": [
        "## The learner component"
      ],
      "metadata": {
        "id": "zZ2R3ZFw55u-"
      }
    },
    {
      "cell_type": "markdown",
      "source": [
        "### Fire Block"
      ],
      "metadata": {
        "id": "XoN9lb-q59ou"
      }
    },
    {
      "cell_type": "code",
      "source": [
        "def fire_block(x, n_filters):\n",
        "  ''' Build a Fire Block.\n",
        "\t    x        : input to the block\n",
        "      n_filters: number of filters\n",
        "  '''\n",
        "  # create the squeeze layer\n",
        "  squeeze = keras.layers.Conv2D(filters=n_filters, kernel_size=1, strides=1, activation='relu', padding='same', kernel_initializer='glorot_uniform')(x)\n",
        "\n",
        "  # branch the squeeze layer into a 1x1 and 3x3 convolution and double the number of filters\n",
        "  expand1x1 = keras.layers.Conv2D(filters=n_filters * 4, kernel_size=1, strides=1, activation='relu', padding='same', kernel_initializer='glorot_uniform')(squeeze)\n",
        "  expand3x3 = keras.layers.Conv2D(filters=n_filters * 4, kernel_size=3, strides=1, activation='relu', padding='same', kernel_initializer='glorot_uniform')(squeeze)\n",
        "\n",
        "  # concatenate the feature maps from the 1x1 and 3x3 branches\n",
        "  x = keras.layers.Concatenate()([expand1x1, expand3x3])\n",
        "\n",
        "  return x"
      ],
      "metadata": {
        "id": "Hhwxhwes57vh"
      },
      "execution_count": 3,
      "outputs": []
    },
    {
      "cell_type": "markdown",
      "source": [
        "### Fire Group"
      ],
      "metadata": {
        "id": "IVxB9iPv6tpK"
      }
    },
    {
      "cell_type": "code",
      "source": [
        "def group(x, filters):\n",
        "  ''' Construct a Fire Group\n",
        "      x       : input to the group\n",
        "      filters : list of number of filters per fire block (module)\n",
        "  '''\n",
        "\n",
        "  # add the fire blocks (modules) for this group\n",
        "  for n_filters in filters:\n",
        "    x = fire_block(x, n_filters)\n",
        "\n",
        "  # a 3x3 max pooling to perform delayed downsampling\n",
        "  x = keras.layers.MaxPooling2D(pool_size=3, strides=2)(x)\n",
        "\n",
        "  return x"
      ],
      "metadata": {
        "id": "YecCEsST6wgh"
      },
      "execution_count": 4,
      "outputs": []
    },
    {
      "cell_type": "markdown",
      "source": [
        "### Learner component"
      ],
      "metadata": {
        "id": "CYx9Vc0-7JVj"
      }
    },
    {
      "cell_type": "code",
      "source": [
        "def learner(x):\n",
        "  ''' Build the learner component.\n",
        "   \t  x    : input to the learner\n",
        "  '''\n",
        "  # create the first fire group, progressively increase number of filters\n",
        "  x = group(x, [16, 16, 32])\n",
        "  # create the Second fire group\n",
        "  x = group(x, [32, 48, 48, 64])\n",
        "  # create the last fire block (module)\n",
        "  x = fire_block(x, 64)\n",
        "  # apply dropout; it is delayed to end of fire groups\n",
        "  x = keras.layers.Dropout(0.5)(x)\n",
        "\n",
        "  return x"
      ],
      "metadata": {
        "id": "m6XrkuSI7LqH"
      },
      "execution_count": 5,
      "outputs": []
    },
    {
      "cell_type": "markdown",
      "source": [
        "## The task component"
      ],
      "metadata": {
        "id": "D6aRExGr7tlh"
      }
    },
    {
      "cell_type": "code",
      "source": [
        "def task(x, n_classes):\n",
        "  ''' Build the task component of SqueezeNet.\n",
        "\t    x        : input to the classifier\n",
        "\t    n_classes: number of output classes\n",
        "  '''\n",
        "\n",
        "  # set the number of filters equal to number of classes\n",
        "  x = keras.layers.Conv2D(filters=n_classes, kernel_size=1, strides=1, activation='relu', padding='same', kernel_initializer='glorot_uniform')(x)\n",
        "  # reduce each filter (class) to a single value\n",
        "  x = keras.layers.GlobalAveragePooling2D()(x)\n",
        "  # softmax activation layer\n",
        "  x = keras.layers.Activation('softmax')(x)\n",
        "\n",
        "  return x"
      ],
      "metadata": {
        "id": "apaI4UEL7val"
      },
      "execution_count": 6,
      "outputs": []
    },
    {
      "cell_type": "markdown",
      "source": [
        "## The SqueezeNet model"
      ],
      "metadata": {
        "id": "_yS48kQc8JbN"
      }
    },
    {
      "cell_type": "code",
      "source": [
        "def build_squeezenet(shape=(224, 224, 3), classes=1000):\n",
        "  # input tensor\n",
        "  inputs = keras.Input(shape=shape)\n",
        "  # stem component\n",
        "  x = stem(inputs)\n",
        "  # learner component\n",
        "  x = learner(x)\n",
        "  # task component\n",
        "  outputs = task(x, classes)\n",
        "\n",
        "  # return the SqueezeNet model\n",
        "  return keras.Model(inputs=inputs, outputs=outputs, name=\"SqueezeNet\")"
      ],
      "metadata": {
        "id": "TsSynWQ28M8L"
      },
      "execution_count": 7,
      "outputs": []
    },
    {
      "cell_type": "code",
      "source": [
        "# create the SqueezeNet model\n",
        "squeezenet_model = build_squeezenet()\n",
        "# print a summary\n",
        "squeezenet_model.summary()"
      ],
      "metadata": {
        "colab": {
          "base_uri": "https://localhost:8080/"
        },
        "id": "2mo7ZY058uf4",
        "outputId": "c7e5e298-7573-43e1-b34a-78514380234a"
      },
      "execution_count": 8,
      "outputs": [
        {
          "output_type": "stream",
          "name": "stdout",
          "text": [
            "Model: \"SqueezeNet\"\n",
            "__________________________________________________________________________________________________\n",
            " Layer (type)                Output Shape                 Param #   Connected to                  \n",
            "==================================================================================================\n",
            " input_1 (InputLayer)        [(None, 224, 224, 3)]        0         []                            \n",
            "                                                                                                  \n",
            " conv2d (Conv2D)             (None, 112, 112, 96)         14208     ['input_1[0][0]']             \n",
            "                                                                                                  \n",
            " max_pooling2d (MaxPooling2  (None, 55, 55, 96)           0         ['conv2d[0][0]']              \n",
            " D)                                                                                               \n",
            "                                                                                                  \n",
            " conv2d_1 (Conv2D)           (None, 55, 55, 16)           1552      ['max_pooling2d[0][0]']       \n",
            "                                                                                                  \n",
            " conv2d_2 (Conv2D)           (None, 55, 55, 64)           1088      ['conv2d_1[0][0]']            \n",
            "                                                                                                  \n",
            " conv2d_3 (Conv2D)           (None, 55, 55, 64)           9280      ['conv2d_1[0][0]']            \n",
            "                                                                                                  \n",
            " concatenate (Concatenate)   (None, 55, 55, 128)          0         ['conv2d_2[0][0]',            \n",
            "                                                                     'conv2d_3[0][0]']            \n",
            "                                                                                                  \n",
            " conv2d_4 (Conv2D)           (None, 55, 55, 16)           2064      ['concatenate[0][0]']         \n",
            "                                                                                                  \n",
            " conv2d_5 (Conv2D)           (None, 55, 55, 64)           1088      ['conv2d_4[0][0]']            \n",
            "                                                                                                  \n",
            " conv2d_6 (Conv2D)           (None, 55, 55, 64)           9280      ['conv2d_4[0][0]']            \n",
            "                                                                                                  \n",
            " concatenate_1 (Concatenate  (None, 55, 55, 128)          0         ['conv2d_5[0][0]',            \n",
            " )                                                                   'conv2d_6[0][0]']            \n",
            "                                                                                                  \n",
            " conv2d_7 (Conv2D)           (None, 55, 55, 32)           4128      ['concatenate_1[0][0]']       \n",
            "                                                                                                  \n",
            " conv2d_8 (Conv2D)           (None, 55, 55, 128)          4224      ['conv2d_7[0][0]']            \n",
            "                                                                                                  \n",
            " conv2d_9 (Conv2D)           (None, 55, 55, 128)          36992     ['conv2d_7[0][0]']            \n",
            "                                                                                                  \n",
            " concatenate_2 (Concatenate  (None, 55, 55, 256)          0         ['conv2d_8[0][0]',            \n",
            " )                                                                   'conv2d_9[0][0]']            \n",
            "                                                                                                  \n",
            " max_pooling2d_1 (MaxPoolin  (None, 27, 27, 256)          0         ['concatenate_2[0][0]']       \n",
            " g2D)                                                                                             \n",
            "                                                                                                  \n",
            " conv2d_10 (Conv2D)          (None, 27, 27, 32)           8224      ['max_pooling2d_1[0][0]']     \n",
            "                                                                                                  \n",
            " conv2d_11 (Conv2D)          (None, 27, 27, 128)          4224      ['conv2d_10[0][0]']           \n",
            "                                                                                                  \n",
            " conv2d_12 (Conv2D)          (None, 27, 27, 128)          36992     ['conv2d_10[0][0]']           \n",
            "                                                                                                  \n",
            " concatenate_3 (Concatenate  (None, 27, 27, 256)          0         ['conv2d_11[0][0]',           \n",
            " )                                                                   'conv2d_12[0][0]']           \n",
            "                                                                                                  \n",
            " conv2d_13 (Conv2D)          (None, 27, 27, 48)           12336     ['concatenate_3[0][0]']       \n",
            "                                                                                                  \n",
            " conv2d_14 (Conv2D)          (None, 27, 27, 192)          9408      ['conv2d_13[0][0]']           \n",
            "                                                                                                  \n",
            " conv2d_15 (Conv2D)          (None, 27, 27, 192)          83136     ['conv2d_13[0][0]']           \n",
            "                                                                                                  \n",
            " concatenate_4 (Concatenate  (None, 27, 27, 384)          0         ['conv2d_14[0][0]',           \n",
            " )                                                                   'conv2d_15[0][0]']           \n",
            "                                                                                                  \n",
            " conv2d_16 (Conv2D)          (None, 27, 27, 48)           18480     ['concatenate_4[0][0]']       \n",
            "                                                                                                  \n",
            " conv2d_17 (Conv2D)          (None, 27, 27, 192)          9408      ['conv2d_16[0][0]']           \n",
            "                                                                                                  \n",
            " conv2d_18 (Conv2D)          (None, 27, 27, 192)          83136     ['conv2d_16[0][0]']           \n",
            "                                                                                                  \n",
            " concatenate_5 (Concatenate  (None, 27, 27, 384)          0         ['conv2d_17[0][0]',           \n",
            " )                                                                   'conv2d_18[0][0]']           \n",
            "                                                                                                  \n",
            " conv2d_19 (Conv2D)          (None, 27, 27, 64)           24640     ['concatenate_5[0][0]']       \n",
            "                                                                                                  \n",
            " conv2d_20 (Conv2D)          (None, 27, 27, 256)          16640     ['conv2d_19[0][0]']           \n",
            "                                                                                                  \n",
            " conv2d_21 (Conv2D)          (None, 27, 27, 256)          147712    ['conv2d_19[0][0]']           \n",
            "                                                                                                  \n",
            " concatenate_6 (Concatenate  (None, 27, 27, 512)          0         ['conv2d_20[0][0]',           \n",
            " )                                                                   'conv2d_21[0][0]']           \n",
            "                                                                                                  \n",
            " max_pooling2d_2 (MaxPoolin  (None, 13, 13, 512)          0         ['concatenate_6[0][0]']       \n",
            " g2D)                                                                                             \n",
            "                                                                                                  \n",
            " conv2d_22 (Conv2D)          (None, 13, 13, 64)           32832     ['max_pooling2d_2[0][0]']     \n",
            "                                                                                                  \n",
            " conv2d_23 (Conv2D)          (None, 13, 13, 256)          16640     ['conv2d_22[0][0]']           \n",
            "                                                                                                  \n",
            " conv2d_24 (Conv2D)          (None, 13, 13, 256)          147712    ['conv2d_22[0][0]']           \n",
            "                                                                                                  \n",
            " concatenate_7 (Concatenate  (None, 13, 13, 512)          0         ['conv2d_23[0][0]',           \n",
            " )                                                                   'conv2d_24[0][0]']           \n",
            "                                                                                                  \n",
            " dropout (Dropout)           (None, 13, 13, 512)          0         ['concatenate_7[0][0]']       \n",
            "                                                                                                  \n",
            " conv2d_25 (Conv2D)          (None, 13, 13, 1000)         513000    ['dropout[0][0]']             \n",
            "                                                                                                  \n",
            " global_average_pooling2d (  (None, 1000)                 0         ['conv2d_25[0][0]']           \n",
            " GlobalAveragePooling2D)                                                                          \n",
            "                                                                                                  \n",
            " activation (Activation)     (None, 1000)                 0         ['global_average_pooling2d[0][\n",
            "                                                                    0]']                          \n",
            "                                                                                                  \n",
            "==================================================================================================\n",
            "Total params: 1248424 (4.76 MB)\n",
            "Trainable params: 1248424 (4.76 MB)\n",
            "Non-trainable params: 0 (0.00 Byte)\n",
            "__________________________________________________________________________________________________\n"
          ]
        }
      ]
    }
  ]
}