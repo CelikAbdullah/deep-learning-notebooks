{
  "nbformat": 4,
  "nbformat_minor": 0,
  "metadata": {
    "colab": {
      "provenance": [],
      "authorship_tag": "ABX9TyO40vO368qQjuDCyAIIyQFm",
      "include_colab_link": true
    },
    "kernelspec": {
      "name": "python3",
      "display_name": "Python 3"
    },
    "language_info": {
      "name": "python"
    }
  },
  "cells": [
    {
      "cell_type": "markdown",
      "metadata": {
        "id": "view-in-github",
        "colab_type": "text"
      },
      "source": [
        "<a href=\"https://colab.research.google.com/github/CelikAbdullah/deep-learning-notebooks/blob/main/Computer%20Vision/models/ResNet34.ipynb\" target=\"_parent\"><img src=\"https://colab.research.google.com/assets/colab-badge.svg\" alt=\"Open In Colab\"/></a>"
      ]
    },
    {
      "cell_type": "code",
      "execution_count": 19,
      "metadata": {
        "id": "bu2wmdSRiujX"
      },
      "outputs": [],
      "source": [
        "from tensorflow import keras"
      ]
    },
    {
      "cell_type": "markdown",
      "source": [
        "# ResNet34"
      ],
      "metadata": {
        "id": "utvWL7LgjZTz"
      }
    },
    {
      "cell_type": "markdown",
      "source": [
        "# The stem component"
      ],
      "metadata": {
        "id": "NpakAhOGjdrg"
      }
    },
    {
      "cell_type": "code",
      "source": [
        "def stem(inputs):\n",
        "  '''\n",
        "  Build the stem component of ResNet34.\n",
        "  Perform the initial coarse-level feature extraction.\n",
        "\n",
        "  inputs: the input vector\n",
        "  '''\n",
        "  # a conv layer that outputs 64 feature maps\n",
        "  x = keras.layers.Conv2D(filters=64,\n",
        "                          kernel_size=7,\n",
        "                          strides=2,\n",
        "                          padding=\"same\",\n",
        "                          activation=\"relu\",\n",
        "                          kernel_initializer=\"he_normal\",\n",
        "                          )(inputs)\n",
        "\n",
        "  # a max pooling layer that pools the 64 feature maps\n",
        "  x = keras.layers.MaxPooling2D(pool_size=3, strides=2, padding=\"same\")(x)\n",
        "\n",
        "  # following line would have the same effect as the previous max pooling layer\n",
        "  #x = keras.layers.MaxPooling2D(pool_size=2)(x)\n",
        "\n",
        "\n",
        "  return x"
      ],
      "metadata": {
        "id": "nNXEdFiXjXnO"
      },
      "execution_count": 20,
      "outputs": []
    },
    {
      "cell_type": "markdown",
      "source": [
        "# The learner component"
      ],
      "metadata": {
        "id": "1zd7CdWVnz_g"
      }
    },
    {
      "cell_type": "markdown",
      "source": [
        "## Residual block"
      ],
      "metadata": {
        "id": "-k0aa4_ao3Tq"
      }
    },
    {
      "cell_type": "markdown",
      "source": [
        "A block that consists of two convolutional layers with the same number of filters for feature extraction. The input to the residual block will be added to the output of the last conv layer via an identity link."
      ],
      "metadata": {
        "id": "NJjiL5oKrsFP"
      }
    },
    {
      "cell_type": "code",
      "source": [
        "def residual_block(x, filters):\n",
        "  '''\n",
        "  A residual block with an identity link and\n",
        "  two convolutional layers. All convolutional\n",
        "  layers have the same number of filters.\n",
        "\n",
        "  x       :  input into to the residual block\n",
        "  filters :  nr. of filters of each conv layer\n",
        "  '''\n",
        "\n",
        "  # identity link, also referred to as \"shortcut\"\n",
        "  shortcut = x\n",
        "\n",
        "  # apply non-strided 3x3 convolutions for feature extraction\n",
        "  x = keras.layers.Conv2D(filters=filters,\n",
        "                          kernel_size=3,\n",
        "                          strides=1,\n",
        "                          padding=\"same\",\n",
        "                          activation=\"relu\",\n",
        "                          kernel_initializer=\"he_normal\"\n",
        "                          )(x)\n",
        "\n",
        "  x = keras.layers.Conv2D(filters=filters,\n",
        "                          kernel_size=3,\n",
        "                          strides=1,\n",
        "                          padding=\"same\",\n",
        "                          activation=\"relu\",\n",
        "                          kernel_initializer=\"he_normal\"\n",
        "                          )(x)\n",
        "\n",
        "  # add the output feature maps to the input\n",
        "  # note: padding=\"same\" preserved the size of the width & height\n",
        "  #       so that adding input and output feature maps can work\n",
        "  x = keras.layers.Add()([shortcut,x])\n",
        "\n",
        "  # return the addition of the input & output feature maps\n",
        "  return x\n"
      ],
      "metadata": {
        "id": "b8TPOiclo8Pu"
      },
      "execution_count": 21,
      "outputs": []
    },
    {
      "cell_type": "markdown",
      "source": [
        "## Conv block"
      ],
      "metadata": {
        "id": "kTDGmIiJrjZ5"
      }
    },
    {
      "cell_type": "markdown",
      "source": [
        "A block that also consists of two convolutional layers. It will be placed after the last residual block of a residual block. It is responsible for doubling the number of output feature maps for the subsequent residual group."
      ],
      "metadata": {
        "id": "EKutkv1CsUWx"
      }
    },
    {
      "cell_type": "code",
      "source": [
        "def conv_block(x, filters):\n",
        "  '''\n",
        "  A conv block with two strided convolutional layers that extract\n",
        "  features, doubles the number of feature maps for the\n",
        "  next residual group and reduces the size of the feature\n",
        "  maps.\n",
        "\n",
        "  x       : input to the conv block\n",
        "  filters : number of filters\n",
        "  '''\n",
        "  x = keras.layers.Conv2D(filters=filters,\n",
        "                          kernel_size=3,\n",
        "                          strides=2 ,\n",
        "                          padding=\"same\",\n",
        "                          activation=\"relu\",\n",
        "                          kernel_initializer=\"he_normal\")(x)\n",
        "  x = keras.layers.Conv2D(filters=filters,\n",
        "                          kernel_size=3,\n",
        "                          strides=2,\n",
        "                          padding=\"same\",\n",
        "                          activation=\"relu\",\n",
        "                          kernel_initializer=\"he_normal\")(x)\n",
        "\n",
        "  # return the output feature maps\n",
        "  return x"
      ],
      "metadata": {
        "id": "sTtzRhEprQHk"
      },
      "execution_count": 22,
      "outputs": []
    },
    {
      "cell_type": "markdown",
      "source": [
        "## Residual group"
      ],
      "metadata": {
        "id": "aX-5paqouTpc"
      }
    },
    {
      "cell_type": "markdown",
      "source": [
        "Now, we can create the residual group. The learner component of ResNet34 has 4 residual groups."
      ],
      "metadata": {
        "id": "6i3c2z_tuYfe"
      }
    },
    {
      "cell_type": "code",
      "source": [
        "def residual_group(x, filters, blocks, conv=True):\n",
        "  '''\n",
        "  Create a residual group.\n",
        "\n",
        "  x       : input to the residual group\n",
        "  filters : number of filters for the conv layers within the residual blocks\n",
        "  blocks  : number of residual blocks in the residual group\n",
        "  conv    : flag that decides whether we need a conv block or not\n",
        "            (note: all residual groups have one, except the last one.)\n",
        "  '''\n",
        "\n",
        "  # create the residual blocks of the residual group\n",
        "  for _ in range(blocks):\n",
        "    x = residual_block(x, filters)\n",
        "\n",
        "\n",
        "  # create the conv block to double the number of feature maps for the\n",
        "  # upcoming residual group and also reduce the size of the feature maps\n",
        "  # via a stride of 2\n",
        "  # (Note: Doubling of the number of feature maps has to be done since each residual\n",
        "  # group doubles the number of filters in their residual blocks. If we don't\n",
        "  # do this then the addition of feature maps at the end of a residual block\n",
        "  # wouldn't work.\n",
        "  if conv:\n",
        "    x = conv_block(x, filters * 2)\n",
        "\n",
        "\n",
        "  # return the output feature maps\n",
        "  return x"
      ],
      "metadata": {
        "id": "r66pUNrMujw8"
      },
      "execution_count": 23,
      "outputs": []
    },
    {
      "cell_type": "markdown",
      "source": [
        "Finally, we can put all pieces together to build the learner component of ResNet34:"
      ],
      "metadata": {
        "id": "DJaUMeXR3nsu"
      }
    },
    {
      "cell_type": "code",
      "source": [
        "def learner(x):\n",
        "  '''\n",
        "  Build the learner component of ResNet34.\n",
        "  Perform the detailed feature extraction and representational learning\n",
        "  from the extracted coarse features.\n",
        "\n",
        "  x: input to the learner\n",
        "  '''\n",
        "\n",
        "  # create the 1st residual group with 3 residual blocks.\n",
        "  # Each residual block consists of 2 convolutional layers with 64 filters.\n",
        "  x = residual_group(x, 64, 3)\n",
        "\n",
        "  # create the 1st residual group with 3 residual blocks.\n",
        "  # Each residual block consists of 2 convolutional layers with 128 filters.\n",
        "  x = residual_group(x, 128, 3)\n",
        "\n",
        "  # create the 1st residual group with 5 residual blocks.\n",
        "  # Each residual block consists of 2 convolutional layers with 256 filters.\n",
        "  x = residual_group(x, 256, 5)\n",
        "\n",
        "  # create the 1st residual group with 2 residual blocks.\n",
        "  # Each residual block consists of 2 convolutional layers with 512 filters.\n",
        "  x = residual_group(x, 512, 2, False)\n",
        "\n",
        "  # return the final output feature maps (latent space)\n",
        "  return x"
      ],
      "metadata": {
        "id": "Gv-VG-MOn3lN"
      },
      "execution_count": 24,
      "outputs": []
    },
    {
      "cell_type": "markdown",
      "source": [
        "# The task component"
      ],
      "metadata": {
        "id": "bVOsNMx3yDxN"
      }
    },
    {
      "cell_type": "code",
      "source": [
        "def task(x, classes):\n",
        "  '''\n",
        "  Build the task component that perform classification.\n",
        "\n",
        "  x       : input to the task component\n",
        "  classes : number of classes\n",
        "  '''\n",
        "\n",
        "  # global average pooling to reduce and flatten the\n",
        "  # feature maps into a 1D vector\n",
        "  x = keras.layers.GlobalAveragePooling2D()(x)\n",
        "\n",
        "  # softmax layer\n",
        "  outputs = keras.layers.Dense(units=classes,\n",
        "                               activation=\"softmax\",\n",
        "                               kernel_initializer=\"he_normal\")(x)\n",
        "\n",
        "\n",
        "  # return the probability of each class\n",
        "  return outputs"
      ],
      "metadata": {
        "id": "xWzBWgZjyGIp"
      },
      "execution_count": 25,
      "outputs": []
    },
    {
      "cell_type": "code",
      "source": [
        "inputs = keras.Input(shape=(224,224, 3))"
      ],
      "metadata": {
        "id": "0cO4lzi-l_e7"
      },
      "execution_count": 26,
      "outputs": []
    },
    {
      "cell_type": "code",
      "source": [
        "# perform the coarse-level feature extraction\n",
        "coarse_features = stem(inputs)\n",
        "\n",
        "# perform the detailed feature extraction & representational learning from the coarse features\n",
        "detailed_features = learner(coarse_features)\n",
        "\n",
        "# the task component performing classification\n",
        "outputs = task(detailed_features, 1000)\n",
        "\n",
        "\n",
        "model = keras.Model(inputs=inputs, outputs=outputs, name=\"resnet_34\")\n",
        "model.summary()"
      ],
      "metadata": {
        "colab": {
          "base_uri": "https://localhost:8080/"
        },
        "id": "jC55ehOMmGu3",
        "outputId": "e1a07bdd-15f4-4884-beb9-e8cb00e04106"
      },
      "execution_count": 27,
      "outputs": [
        {
          "output_type": "stream",
          "name": "stdout",
          "text": [
            "Model: \"resnet_34\"\n",
            "__________________________________________________________________________________________________\n",
            " Layer (type)                   Output Shape         Param #     Connected to                     \n",
            "==================================================================================================\n",
            " input_3 (InputLayer)           [(None, 224, 224, 3  0           []                               \n",
            "                                )]                                                                \n",
            "                                                                                                  \n",
            " conv2d_34 (Conv2D)             (None, 112, 112, 64  9472        ['input_3[0][0]']                \n",
            "                                )                                                                 \n",
            "                                                                                                  \n",
            " max_pooling2d_2 (MaxPooling2D)  (None, 56, 56, 64)  0           ['conv2d_34[0][0]']              \n",
            "                                                                                                  \n",
            " conv2d_35 (Conv2D)             (None, 56, 56, 64)   36928       ['max_pooling2d_2[0][0]']        \n",
            "                                                                                                  \n",
            " conv2d_36 (Conv2D)             (None, 56, 56, 64)   36928       ['conv2d_35[0][0]']              \n",
            "                                                                                                  \n",
            " add_13 (Add)                   (None, 56, 56, 64)   0           ['max_pooling2d_2[0][0]',        \n",
            "                                                                  'conv2d_36[0][0]']              \n",
            "                                                                                                  \n",
            " conv2d_37 (Conv2D)             (None, 56, 56, 64)   36928       ['add_13[0][0]']                 \n",
            "                                                                                                  \n",
            " conv2d_38 (Conv2D)             (None, 56, 56, 64)   36928       ['conv2d_37[0][0]']              \n",
            "                                                                                                  \n",
            " add_14 (Add)                   (None, 56, 56, 64)   0           ['add_13[0][0]',                 \n",
            "                                                                  'conv2d_38[0][0]']              \n",
            "                                                                                                  \n",
            " conv2d_39 (Conv2D)             (None, 56, 56, 64)   36928       ['add_14[0][0]']                 \n",
            "                                                                                                  \n",
            " conv2d_40 (Conv2D)             (None, 56, 56, 64)   36928       ['conv2d_39[0][0]']              \n",
            "                                                                                                  \n",
            " add_15 (Add)                   (None, 56, 56, 64)   0           ['add_14[0][0]',                 \n",
            "                                                                  'conv2d_40[0][0]']              \n",
            "                                                                                                  \n",
            " conv2d_41 (Conv2D)             (None, 28, 28, 128)  73856       ['add_15[0][0]']                 \n",
            "                                                                                                  \n",
            " conv2d_42 (Conv2D)             (None, 14, 14, 128)  147584      ['conv2d_41[0][0]']              \n",
            "                                                                                                  \n",
            " conv2d_43 (Conv2D)             (None, 14, 14, 128)  147584      ['conv2d_42[0][0]']              \n",
            "                                                                                                  \n",
            " conv2d_44 (Conv2D)             (None, 14, 14, 128)  147584      ['conv2d_43[0][0]']              \n",
            "                                                                                                  \n",
            " add_16 (Add)                   (None, 14, 14, 128)  0           ['conv2d_42[0][0]',              \n",
            "                                                                  'conv2d_44[0][0]']              \n",
            "                                                                                                  \n",
            " conv2d_45 (Conv2D)             (None, 14, 14, 128)  147584      ['add_16[0][0]']                 \n",
            "                                                                                                  \n",
            " conv2d_46 (Conv2D)             (None, 14, 14, 128)  147584      ['conv2d_45[0][0]']              \n",
            "                                                                                                  \n",
            " add_17 (Add)                   (None, 14, 14, 128)  0           ['add_16[0][0]',                 \n",
            "                                                                  'conv2d_46[0][0]']              \n",
            "                                                                                                  \n",
            " conv2d_47 (Conv2D)             (None, 14, 14, 128)  147584      ['add_17[0][0]']                 \n",
            "                                                                                                  \n",
            " conv2d_48 (Conv2D)             (None, 14, 14, 128)  147584      ['conv2d_47[0][0]']              \n",
            "                                                                                                  \n",
            " add_18 (Add)                   (None, 14, 14, 128)  0           ['add_17[0][0]',                 \n",
            "                                                                  'conv2d_48[0][0]']              \n",
            "                                                                                                  \n",
            " conv2d_49 (Conv2D)             (None, 7, 7, 256)    295168      ['add_18[0][0]']                 \n",
            "                                                                                                  \n",
            " conv2d_50 (Conv2D)             (None, 4, 4, 256)    590080      ['conv2d_49[0][0]']              \n",
            "                                                                                                  \n",
            " conv2d_51 (Conv2D)             (None, 4, 4, 256)    590080      ['conv2d_50[0][0]']              \n",
            "                                                                                                  \n",
            " conv2d_52 (Conv2D)             (None, 4, 4, 256)    590080      ['conv2d_51[0][0]']              \n",
            "                                                                                                  \n",
            " add_19 (Add)                   (None, 4, 4, 256)    0           ['conv2d_50[0][0]',              \n",
            "                                                                  'conv2d_52[0][0]']              \n",
            "                                                                                                  \n",
            " conv2d_53 (Conv2D)             (None, 4, 4, 256)    590080      ['add_19[0][0]']                 \n",
            "                                                                                                  \n",
            " conv2d_54 (Conv2D)             (None, 4, 4, 256)    590080      ['conv2d_53[0][0]']              \n",
            "                                                                                                  \n",
            " add_20 (Add)                   (None, 4, 4, 256)    0           ['add_19[0][0]',                 \n",
            "                                                                  'conv2d_54[0][0]']              \n",
            "                                                                                                  \n",
            " conv2d_55 (Conv2D)             (None, 4, 4, 256)    590080      ['add_20[0][0]']                 \n",
            "                                                                                                  \n",
            " conv2d_56 (Conv2D)             (None, 4, 4, 256)    590080      ['conv2d_55[0][0]']              \n",
            "                                                                                                  \n",
            " add_21 (Add)                   (None, 4, 4, 256)    0           ['add_20[0][0]',                 \n",
            "                                                                  'conv2d_56[0][0]']              \n",
            "                                                                                                  \n",
            " conv2d_57 (Conv2D)             (None, 4, 4, 256)    590080      ['add_21[0][0]']                 \n",
            "                                                                                                  \n",
            " conv2d_58 (Conv2D)             (None, 4, 4, 256)    590080      ['conv2d_57[0][0]']              \n",
            "                                                                                                  \n",
            " add_22 (Add)                   (None, 4, 4, 256)    0           ['add_21[0][0]',                 \n",
            "                                                                  'conv2d_58[0][0]']              \n",
            "                                                                                                  \n",
            " conv2d_59 (Conv2D)             (None, 4, 4, 256)    590080      ['add_22[0][0]']                 \n",
            "                                                                                                  \n",
            " conv2d_60 (Conv2D)             (None, 4, 4, 256)    590080      ['conv2d_59[0][0]']              \n",
            "                                                                                                  \n",
            " add_23 (Add)                   (None, 4, 4, 256)    0           ['add_22[0][0]',                 \n",
            "                                                                  'conv2d_60[0][0]']              \n",
            "                                                                                                  \n",
            " conv2d_61 (Conv2D)             (None, 2, 2, 512)    1180160     ['add_23[0][0]']                 \n",
            "                                                                                                  \n",
            " conv2d_62 (Conv2D)             (None, 1, 1, 512)    2359808     ['conv2d_61[0][0]']              \n",
            "                                                                                                  \n",
            " conv2d_63 (Conv2D)             (None, 1, 1, 512)    2359808     ['conv2d_62[0][0]']              \n",
            "                                                                                                  \n",
            " conv2d_64 (Conv2D)             (None, 1, 1, 512)    2359808     ['conv2d_63[0][0]']              \n",
            "                                                                                                  \n",
            " add_24 (Add)                   (None, 1, 1, 512)    0           ['conv2d_62[0][0]',              \n",
            "                                                                  'conv2d_64[0][0]']              \n",
            "                                                                                                  \n",
            " conv2d_65 (Conv2D)             (None, 1, 1, 512)    2359808     ['add_24[0][0]']                 \n",
            "                                                                                                  \n",
            " conv2d_66 (Conv2D)             (None, 1, 1, 512)    2359808     ['conv2d_65[0][0]']              \n",
            "                                                                                                  \n",
            " add_25 (Add)                   (None, 1, 1, 512)    0           ['add_24[0][0]',                 \n",
            "                                                                  'conv2d_66[0][0]']              \n",
            "                                                                                                  \n",
            " global_average_pooling2d_1 (Gl  (None, 512)         0           ['add_25[0][0]']                 \n",
            " obalAveragePooling2D)                                                                            \n",
            "                                                                                                  \n",
            " dense_1 (Dense)                (None, 1000)         513000      ['global_average_pooling2d_1[0][0\n",
            "                                                                 ]']                              \n",
            "                                                                                                  \n",
            "==================================================================================================\n",
            "Total params: 21,616,232\n",
            "Trainable params: 21,616,232\n",
            "Non-trainable params: 0\n",
            "__________________________________________________________________________________________________\n"
          ]
        }
      ]
    }
  ]
}