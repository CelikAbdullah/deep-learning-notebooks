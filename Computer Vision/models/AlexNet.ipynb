{
  "nbformat": 4,
  "nbformat_minor": 0,
  "metadata": {
    "colab": {
      "provenance": [],
      "authorship_tag": "ABX9TyM3/BqIsD7YhfS8fXLeyO+n",
      "include_colab_link": true
    },
    "kernelspec": {
      "name": "python3",
      "display_name": "Python 3"
    },
    "language_info": {
      "name": "python"
    }
  },
  "cells": [
    {
      "cell_type": "markdown",
      "metadata": {
        "id": "view-in-github",
        "colab_type": "text"
      },
      "source": [
        "<a href=\"https://colab.research.google.com/github/CelikAbdullah/deep-learning-notebooks/blob/main/Computer%20Vision/models/AlexNet.ipynb\" target=\"_parent\"><img src=\"https://colab.research.google.com/assets/colab-badge.svg\" alt=\"Open In Colab\"/></a>"
      ]
    },
    {
      "cell_type": "code",
      "execution_count": 7,
      "metadata": {
        "id": "r55tuFoSET7K"
      },
      "outputs": [],
      "source": [
        "from tensorflow import keras"
      ]
    },
    {
      "cell_type": "markdown",
      "source": [
        "# AlexNet"
      ],
      "metadata": {
        "id": "EUp_NfO6EVe1"
      }
    },
    {
      "cell_type": "markdown",
      "source": [
        "## The stem component"
      ],
      "metadata": {
        "id": "AUxGETwbEa0-"
      }
    },
    {
      "cell_type": "code",
      "source": [
        "def stem(inputs):\n",
        "  \"\"\" Build the stem component\n",
        "      inputs : the input vector\n",
        "  \"\"\"\n",
        "\n",
        "  # create the first convolutional layer which uses an extremely large (coarse) filter\n",
        "  x = keras.layers.Conv2D(filters=96, kernel_size=11, strides=4, padding='same')(inputs)\n",
        "  x = keras.layers.ReLU()(x)\n",
        "\n",
        "  # create the second convolutional layer\n",
        "  x = keras.layers.Conv2D(filters=256, kernel_size=5, strides=1, padding='same')(x)\n",
        "  x = keras.layers.ReLU()(x)\n",
        "\n",
        "  # apply a 3x3 max pooling; the pooled feature maps will be reduced by 75%\n",
        "  x = keras.layers.MaxPooling2D((3, 3), strides=(2, 2))(x)\n",
        "\n",
        "  return x"
      ],
      "metadata": {
        "id": "PwAUoi1vEcLn"
      },
      "execution_count": 8,
      "outputs": []
    },
    {
      "cell_type": "markdown",
      "source": [
        "## The learner component"
      ],
      "metadata": {
        "id": "VmbfDqZJE9-9"
      }
    },
    {
      "cell_type": "code",
      "source": [
        "def learner(x):\n",
        "  \"\"\" Build the learner component of AlexNet.\n",
        "      x     : input to the learner\n",
        "  \"\"\"\n",
        "\n",
        "  # create a third convolutional layer\n",
        "  x = keras.layers.Conv2D(filters=384, kernel_size=3, strides=1, padding='same')(x)\n",
        "  x = keras.layers.ReLU()(x)\n",
        "\n",
        "  # apply a 3x3 max pooling; the pooled feature maps will be reduced by 75%\n",
        "  x = keras.layers.MaxPooling2D(pool_size=3, strides=2)(x)\n",
        "\n",
        "  # create the fourth convolutional layer\n",
        "  x = keras.layers.Conv2D(filters=384, kernel_size=3, strides=1, padding='same')(x)\n",
        "  x = keras.layers.ReLU()(x)\n",
        "\n",
        "  # create the fifth convolutional layer\n",
        "  x = keras.layers.Conv2D(filters=256, kernel_size=3, strides=1, padding='same')(x)\n",
        "  x = keras.layers.ReLU()(x)\n",
        "\n",
        "  # a 3x3 max pooling; the pooled feature maps will be reduced by 75%\n",
        "  x = keras.layers.MaxPooling2D(pool_size=3, strides=2)(x)\n",
        "\n",
        "  return x"
      ],
      "metadata": {
        "id": "ewlpeI72FCfG"
      },
      "execution_count": 9,
      "outputs": []
    },
    {
      "cell_type": "markdown",
      "source": [
        "## The task component"
      ],
      "metadata": {
        "id": "tEJZgyCvF6o5"
      }
    },
    {
      "cell_type": "code",
      "source": [
        "def task(x, n_classes):\n",
        "  \"\"\" Build the task component of AlexNet.\n",
        "      x         : input to the classifier\n",
        "      n_classes : number of output classes\n",
        "  \"\"\"\n",
        "  # flatten into 1D vector\n",
        "  x = keras.layers.Flatten()(x)\n",
        "\n",
        "  # create two dense layers of 4096\n",
        "  x = keras.layers.Dense(units=4096, activation='relu')(x)\n",
        "  x = keras.layers.Dense(units=4096, activation='relu')(x)\n",
        "\n",
        "  # softmax layer\n",
        "  outputs = keras.layers.Dense(n_classes, activation='softmax')(x)\n",
        "\n",
        "  return outputs"
      ],
      "metadata": {
        "id": "s40-BXbXF8hH"
      },
      "execution_count": 10,
      "outputs": []
    },
    {
      "cell_type": "markdown",
      "source": [
        "## The AlexNet model"
      ],
      "metadata": {
        "id": "0f-8t_9rGTK1"
      }
    },
    {
      "cell_type": "code",
      "source": [
        "def build_alexnet(shape=(224,224, 3), classes=1000):\n",
        "  # input tensor\n",
        "  inputs = keras.Input(shape=shape)\n",
        "  # stem component\n",
        "  x = stem(inputs)\n",
        "  # learner component\n",
        "  x = learner(x)\n",
        "  # task component\n",
        "  outputs = task(x, classes)\n",
        "\n",
        "  return keras.Model(inputs=inputs, outputs=outputs, name=\"AlexNet\")"
      ],
      "metadata": {
        "id": "Zpr2ie51GXqd"
      },
      "execution_count": 11,
      "outputs": []
    },
    {
      "cell_type": "code",
      "source": [
        "# create the AlexNet model\n",
        "alexnet_model = build_alexnet()\n",
        "\n",
        "# print summary of the AlexNet model\n",
        "alexnet_model.summary()"
      ],
      "metadata": {
        "colab": {
          "base_uri": "https://localhost:8080/"
        },
        "id": "jYmxYyuJG4HB",
        "outputId": "50b5f1f9-657e-48de-dfc5-0e23e69a5a90"
      },
      "execution_count": 12,
      "outputs": [
        {
          "output_type": "stream",
          "name": "stdout",
          "text": [
            "Model: \"AlexNet\"\n",
            "_________________________________________________________________\n",
            " Layer (type)                Output Shape              Param #   \n",
            "=================================================================\n",
            " input_1 (InputLayer)        [(None, 224, 224, 3)]     0         \n",
            "                                                                 \n",
            " conv2d (Conv2D)             (None, 56, 56, 96)        34944     \n",
            "                                                                 \n",
            " re_lu (ReLU)                (None, 56, 56, 96)        0         \n",
            "                                                                 \n",
            " conv2d_1 (Conv2D)           (None, 56, 56, 256)       614656    \n",
            "                                                                 \n",
            " re_lu_1 (ReLU)              (None, 56, 56, 256)       0         \n",
            "                                                                 \n",
            " max_pooling2d (MaxPooling2  (None, 27, 27, 256)       0         \n",
            " D)                                                              \n",
            "                                                                 \n",
            " conv2d_2 (Conv2D)           (None, 27, 27, 384)       885120    \n",
            "                                                                 \n",
            " re_lu_2 (ReLU)              (None, 27, 27, 384)       0         \n",
            "                                                                 \n",
            " max_pooling2d_1 (MaxPoolin  (None, 13, 13, 384)       0         \n",
            " g2D)                                                            \n",
            "                                                                 \n",
            " conv2d_3 (Conv2D)           (None, 13, 13, 384)       1327488   \n",
            "                                                                 \n",
            " re_lu_3 (ReLU)              (None, 13, 13, 384)       0         \n",
            "                                                                 \n",
            " conv2d_4 (Conv2D)           (None, 13, 13, 256)       884992    \n",
            "                                                                 \n",
            " re_lu_4 (ReLU)              (None, 13, 13, 256)       0         \n",
            "                                                                 \n",
            " max_pooling2d_2 (MaxPoolin  (None, 6, 6, 256)         0         \n",
            " g2D)                                                            \n",
            "                                                                 \n",
            " flatten (Flatten)           (None, 9216)              0         \n",
            "                                                                 \n",
            " dense (Dense)               (None, 4096)              37752832  \n",
            "                                                                 \n",
            " dense_1 (Dense)             (None, 4096)              16781312  \n",
            "                                                                 \n",
            " dense_2 (Dense)             (None, 1000)              4097000   \n",
            "                                                                 \n",
            "=================================================================\n",
            "Total params: 62378344 (237.95 MB)\n",
            "Trainable params: 62378344 (237.95 MB)\n",
            "Non-trainable params: 0 (0.00 Byte)\n",
            "_________________________________________________________________\n"
          ]
        }
      ]
    }
  ]
}