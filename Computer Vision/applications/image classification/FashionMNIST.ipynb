{
  "nbformat": 4,
  "nbformat_minor": 0,
  "metadata": {
    "colab": {
      "provenance": [],
      "authorship_tag": "ABX9TyN2dSM4owxVRuGaT64mgww/",
      "include_colab_link": true
    },
    "kernelspec": {
      "name": "python3",
      "display_name": "Python 3"
    },
    "language_info": {
      "name": "python"
    }
  },
  "cells": [
    {
      "cell_type": "markdown",
      "metadata": {
        "id": "view-in-github",
        "colab_type": "text"
      },
      "source": [
        "<a href=\"https://colab.research.google.com/github/CelikAbdullah/deep-learning-notebooks/blob/main/Computer%20Vision/applications/image%20classification/FashionMNIST.ipynb\" target=\"_parent\"><img src=\"https://colab.research.google.com/assets/colab-badge.svg\" alt=\"Open In Colab\"/></a>"
      ]
    },
    {
      "cell_type": "markdown",
      "source": [
        "# Libraries"
      ],
      "metadata": {
        "id": "J_dIHXXeE5cS"
      }
    },
    {
      "cell_type": "code",
      "execution_count": 1,
      "metadata": {
        "id": "mw0-iBgEEWQ0"
      },
      "outputs": [],
      "source": [
        "from tensorflow import keras\n",
        "import numpy as np"
      ]
    },
    {
      "cell_type": "markdown",
      "source": [
        "# Load FashionMNIST dataset"
      ],
      "metadata": {
        "id": "QjOeI1ilFE2O"
      }
    },
    {
      "cell_type": "code",
      "source": [
        "# load the Fashion-MNIST dataset\n",
        "(x_train, y_train), (x_test, y_test) = keras.datasets.fashion_mnist.load_data()"
      ],
      "metadata": {
        "colab": {
          "base_uri": "https://localhost:8080/"
        },
        "id": "egLnTzCPFIXr",
        "outputId": "9301670f-9fb7-44f3-da07-bfcc550a2565"
      },
      "execution_count": 2,
      "outputs": [
        {
          "output_type": "stream",
          "name": "stdout",
          "text": [
            "Downloading data from https://storage.googleapis.com/tensorflow/tf-keras-datasets/train-labels-idx1-ubyte.gz\n",
            "29515/29515 [==============================] - 0s 0us/step\n",
            "Downloading data from https://storage.googleapis.com/tensorflow/tf-keras-datasets/train-images-idx3-ubyte.gz\n",
            "26421880/26421880 [==============================] - 0s 0us/step\n",
            "Downloading data from https://storage.googleapis.com/tensorflow/tf-keras-datasets/t10k-labels-idx1-ubyte.gz\n",
            "5148/5148 [==============================] - 0s 0us/step\n",
            "Downloading data from https://storage.googleapis.com/tensorflow/tf-keras-datasets/t10k-images-idx3-ubyte.gz\n",
            "4422102/4422102 [==============================] - 0s 0us/step\n"
          ]
        }
      ]
    },
    {
      "cell_type": "code",
      "source": [
        "# print the shape of training & test set\n",
        "print(x_train.shape, y_train.shape)\n",
        "print(x_test.shape, y_test.shape)"
      ],
      "metadata": {
        "colab": {
          "base_uri": "https://localhost:8080/"
        },
        "id": "6qJi9ImrGBzH",
        "outputId": "4800c030-c357-456f-9066-ef32ab1fe1fa"
      },
      "execution_count": 3,
      "outputs": [
        {
          "output_type": "stream",
          "name": "stdout",
          "text": [
            "(60000, 28, 28) (60000,)\n",
            "(10000, 28, 28) (10000,)\n"
          ]
        }
      ]
    },
    {
      "cell_type": "markdown",
      "source": [
        "This is a dataset of 60,000 28x28 grayscale images of 10 fashion categories, along with a test set of 10,000 images."
      ],
      "metadata": {
        "id": "pzJ6VCsEGZ9b"
      }
    },
    {
      "cell_type": "markdown",
      "source": [
        "# Prepare the Fashion-MNIST dataset for training"
      ],
      "metadata": {
        "id": "SwcQxdTFGziw"
      }
    },
    {
      "cell_type": "markdown",
      "source": [
        "We are able to increase the speed at which the parameters learn the optimal values and increase our chances of convergence by squashing the input values into a smaller range. Therefore, we divide each value by 255."
      ],
      "metadata": {
        "id": "RcCRMkAlG5Bk"
      }
    },
    {
      "cell_type": "code",
      "source": [
        "# convert values to float32 & scale images to the [0,1] range\n",
        "x_train = x_train.astype(\"float32\") / 255\n",
        "x_test = x_test.astype(\"float32\") / 255"
      ],
      "metadata": {
        "id": "B7v024yeHJEI"
      },
      "execution_count": 4,
      "outputs": []
    },
    {
      "cell_type": "markdown",
      "source": [
        "Let's make sure that our images have a shape of (28,28,1)."
      ],
      "metadata": {
        "id": "IL1wzlwyHR3q"
      }
    },
    {
      "cell_type": "code",
      "source": [
        "# bring images into a shape of (28,28,1)\n",
        "x_train = np.expand_dims(x_train, -1)\n",
        "x_test = np.expand_dims(x_test, -1)"
      ],
      "metadata": {
        "id": "POh8o3T_HU__"
      },
      "execution_count": 5,
      "outputs": []
    },
    {
      "cell_type": "code",
      "source": [
        "# print the shape of training & test set\n",
        "print(x_train.shape, y_train.shape)\n",
        "print(x_test.shape, y_test.shape)"
      ],
      "metadata": {
        "colab": {
          "base_uri": "https://localhost:8080/"
        },
        "id": "LLi9LG8aHYH3",
        "outputId": "741e7416-9275-4cd0-be79-679262b0b8dd"
      },
      "execution_count": 6,
      "outputs": [
        {
          "output_type": "stream",
          "name": "stdout",
          "text": [
            "(60000, 28, 28, 1) (60000,)\n",
            "(10000, 28, 28, 1) (10000,)\n"
          ]
        }
      ]
    },
    {
      "cell_type": "markdown",
      "source": [
        "In order to compare our output vector, we need a 10-element vector as label. So, we have to convert the scalar-value labels into 10-element vectors with a 1 in the corresponding index. This is known as one-hot encoding.\n",
        "\n",
        "In Keras, we can achieve one-hot encoding of labels via the helper method to_categorical."
      ],
      "metadata": {
        "id": "5cMOo8eFHeE3"
      }
    },
    {
      "cell_type": "code",
      "source": [
        "# we have 10 digits\n",
        "num_classes = 10\n",
        "\n",
        "y_train = keras.utils.to_categorical(y_train, num_classes)\n",
        "y_test = keras.utils.to_categorical(y_test, num_classes)"
      ],
      "metadata": {
        "id": "R5xlJ2JUHgbl"
      },
      "execution_count": 7,
      "outputs": []
    },
    {
      "cell_type": "code",
      "source": [
        "print(x_train.shape, y_train.shape)\n",
        "print(x_test.shape, y_test.shape)"
      ],
      "metadata": {
        "colab": {
          "base_uri": "https://localhost:8080/"
        },
        "id": "BGRjk4OTHlM6",
        "outputId": "e8847ffe-98fc-4110-f533-ccfe941e1f69"
      },
      "execution_count": 8,
      "outputs": [
        {
          "output_type": "stream",
          "name": "stdout",
          "text": [
            "(60000, 28, 28, 1) (60000, 10)\n",
            "(10000, 28, 28, 1) (10000, 10)\n"
          ]
        }
      ]
    },
    {
      "cell_type": "markdown",
      "source": [
        "# Build the model"
      ],
      "metadata": {
        "id": "2UIVSIvRHmrW"
      }
    },
    {
      "cell_type": "markdown",
      "source": [
        "We build a very simple CNN."
      ],
      "metadata": {
        "id": "0BhI9ffrHpEH"
      }
    },
    {
      "cell_type": "code",
      "source": [
        "def get_model(shape=(28,28,1)):\n",
        "\n",
        "  # input layer\n",
        "  inputs = keras.Input(shape=shape)\n",
        "\n",
        "  # 1st & 2nd conv layer + max pooling\n",
        "  x = keras.layers.Conv2D(filters=32, kernel_size=3, padding=\"same\",  activation=\"relu\")(inputs)\n",
        "  x = keras.layers.Conv2D(filters=32, kernel_size=3, padding=\"same\", activation=\"relu\")(x)\n",
        "  x = keras.layers.MaxPooling2D(pool_size=2)(x)\n",
        "\n",
        "  # 3rd & 4th conv layer + max pooling\n",
        "  x = keras.layers.Conv2D(filters=64, kernel_size=3, padding=\"same\", activation=\"relu\")(x)\n",
        "  x = keras.layers.Conv2D(filters=64, kernel_size=3, padding=\"same\", activation=\"relu\")(x)\n",
        "  x = keras.layers.MaxPooling2D(pool_size=2)(x)\n",
        "\n",
        "  # 5th & 6th conv layer + max pooling\n",
        "  x = keras.layers.Conv2D(filters=128, kernel_size=3, padding=\"same\", activation=\"relu\")(x)\n",
        "  x = keras.layers.Conv2D(filters=128, kernel_size=3, padding=\"same\", activation=\"relu\")(x)\n",
        "  x = keras.layers.MaxPooling2D(pool_size=2)(x)\n",
        "\n",
        "  # flatten the input for the dense layer\n",
        "  x = keras.layers.Flatten()(x)\n",
        "\n",
        "  # apply dropout for regularization to combat overfitting that might occur\n",
        "  x = keras.layers.Dropout(0.5)(x)\n",
        "\n",
        "  # softmax layer\n",
        "  outputs = keras.layers.Dense(units=num_classes, activation=\"softmax\")(x)\n",
        "\n",
        "  # build the model\n",
        "  model = keras.Model(inputs=inputs, outputs = outputs, name=\"simple_cnn_for_mnist\")\n",
        "\n",
        "  return model"
      ],
      "metadata": {
        "id": "QIdk649VHuZp"
      },
      "execution_count": 18,
      "outputs": []
    },
    {
      "cell_type": "code",
      "source": [
        "# create our simple CNN\n",
        "simple_cnn = get_model()"
      ],
      "metadata": {
        "id": "bD18UkSwH1lT"
      },
      "execution_count": 19,
      "outputs": []
    },
    {
      "cell_type": "code",
      "source": [
        "# print a summary of our CNN\n",
        "simple_cnn.summary()"
      ],
      "metadata": {
        "colab": {
          "base_uri": "https://localhost:8080/"
        },
        "id": "uqY34C7pH3Sv",
        "outputId": "115dab3d-dffd-4bc1-df65-a441a0025efe"
      },
      "execution_count": 20,
      "outputs": [
        {
          "output_type": "stream",
          "name": "stdout",
          "text": [
            "Model: \"simple_cnn_for_mnist\"\n",
            "_________________________________________________________________\n",
            " Layer (type)                Output Shape              Param #   \n",
            "=================================================================\n",
            " input_5 (InputLayer)        [(None, 28, 28, 1)]       0         \n",
            "                                                                 \n",
            " conv2d_21 (Conv2D)          (None, 28, 28, 32)        320       \n",
            "                                                                 \n",
            " conv2d_22 (Conv2D)          (None, 28, 28, 32)        9248      \n",
            "                                                                 \n",
            " max_pooling2d_8 (MaxPooling  (None, 14, 14, 32)       0         \n",
            " 2D)                                                             \n",
            "                                                                 \n",
            " conv2d_23 (Conv2D)          (None, 14, 14, 64)        18496     \n",
            "                                                                 \n",
            " conv2d_24 (Conv2D)          (None, 14, 14, 64)        36928     \n",
            "                                                                 \n",
            " max_pooling2d_9 (MaxPooling  (None, 7, 7, 64)         0         \n",
            " 2D)                                                             \n",
            "                                                                 \n",
            " conv2d_25 (Conv2D)          (None, 7, 7, 128)         73856     \n",
            "                                                                 \n",
            " conv2d_26 (Conv2D)          (None, 7, 7, 128)         147584    \n",
            "                                                                 \n",
            " max_pooling2d_10 (MaxPoolin  (None, 3, 3, 128)        0         \n",
            " g2D)                                                            \n",
            "                                                                 \n",
            " flatten_2 (Flatten)         (None, 1152)              0         \n",
            "                                                                 \n",
            " dropout_2 (Dropout)         (None, 1152)              0         \n",
            "                                                                 \n",
            " dense_2 (Dense)             (None, 10)                11530     \n",
            "                                                                 \n",
            "=================================================================\n",
            "Total params: 297,962\n",
            "Trainable params: 297,962\n",
            "Non-trainable params: 0\n",
            "_________________________________________________________________\n"
          ]
        }
      ]
    },
    {
      "cell_type": "markdown",
      "source": [
        "# Compile the model"
      ],
      "metadata": {
        "id": "qbXMwz1JH69t"
      }
    },
    {
      "cell_type": "code",
      "source": [
        "# define the optimizer\n",
        "optimizer = \"adam\"\n",
        "\n",
        "# define the loss function\n",
        "loss=\"categorical_crossentropy\"\n",
        "\n",
        "# define the metrics list\n",
        "metrics=[\"accuracy\"]\n",
        "\n",
        "# compile the model\n",
        "simple_cnn.compile(optimizer=optimizer,\n",
        "                   loss=loss,\n",
        "                   metrics=metrics)"
      ],
      "metadata": {
        "id": "AZQY6_JYH-t7"
      },
      "execution_count": 21,
      "outputs": []
    },
    {
      "cell_type": "markdown",
      "source": [
        "# Define callbacks"
      ],
      "metadata": {
        "id": "OANR5E9ZIAQG"
      }
    },
    {
      "cell_type": "code",
      "source": [
        "# define the filepath\n",
        "filepath = \"my_simple_cnn.keras\"\n",
        "\n",
        "# the ModelCheckpoint callback will save the checkpoint only if the\n",
        "# validation loss is smaller than the last checkpoint\n",
        "checkpoint = keras.callbacks.ModelCheckpoint(filepath, save_best_only=True, monitor=\"val_loss\")\n",
        "\n",
        "# the EarlyStopping callback sets an early stop when the validation\n",
        "# loss has stopped reducing for 3 epochs\n",
        "earlystop = keras.callbacks.EarlyStopping(monitor=\"val_loss\", patience=3)"
      ],
      "metadata": {
        "id": "bRJa6GnxICIL"
      },
      "execution_count": 22,
      "outputs": []
    },
    {
      "cell_type": "markdown",
      "source": [
        "# Train"
      ],
      "metadata": {
        "id": "9xC4E1Z2II-y"
      }
    },
    {
      "cell_type": "markdown",
      "source": [
        "During the training, we use 10% of the training set as validation."
      ],
      "metadata": {
        "id": "ABs-G9tFIKG_"
      }
    },
    {
      "cell_type": "code",
      "source": [
        "history = simple_cnn.fit(x_train,\n",
        "                         y_train,\n",
        "                         batch_size=128,\n",
        "                         epochs=50,\n",
        "                         callbacks = [checkpoint, earlystop],\n",
        "                         validation_split=0.1)"
      ],
      "metadata": {
        "colab": {
          "base_uri": "https://localhost:8080/"
        },
        "id": "8vWPaWv7IPAS",
        "outputId": "b95c75e5-5202-4518-d2b9-3b2f3fdc3689"
      },
      "execution_count": 23,
      "outputs": [
        {
          "output_type": "stream",
          "name": "stdout",
          "text": [
            "Epoch 1/50\n",
            "422/422 [==============================] - 321s 755ms/step - loss: 0.5843 - accuracy: 0.7869 - val_loss: 0.3552 - val_accuracy: 0.8677\n",
            "Epoch 2/50\n",
            "422/422 [==============================] - 317s 753ms/step - loss: 0.3454 - accuracy: 0.8741 - val_loss: 0.2935 - val_accuracy: 0.8940\n",
            "Epoch 3/50\n",
            "422/422 [==============================] - 315s 746ms/step - loss: 0.2850 - accuracy: 0.8969 - val_loss: 0.2578 - val_accuracy: 0.9065\n",
            "Epoch 4/50\n",
            "422/422 [==============================] - 314s 745ms/step - loss: 0.2505 - accuracy: 0.9103 - val_loss: 0.2265 - val_accuracy: 0.9182\n",
            "Epoch 5/50\n",
            "422/422 [==============================] - 316s 748ms/step - loss: 0.2280 - accuracy: 0.9169 - val_loss: 0.2160 - val_accuracy: 0.9197\n",
            "Epoch 6/50\n",
            "422/422 [==============================] - 314s 744ms/step - loss: 0.2094 - accuracy: 0.9235 - val_loss: 0.2039 - val_accuracy: 0.9270\n",
            "Epoch 7/50\n",
            "422/422 [==============================] - 312s 741ms/step - loss: 0.1929 - accuracy: 0.9286 - val_loss: 0.2081 - val_accuracy: 0.9270\n",
            "Epoch 8/50\n",
            "422/422 [==============================] - 314s 744ms/step - loss: 0.1792 - accuracy: 0.9343 - val_loss: 0.2042 - val_accuracy: 0.9258\n",
            "Epoch 9/50\n",
            "422/422 [==============================] - 316s 747ms/step - loss: 0.1644 - accuracy: 0.9399 - val_loss: 0.1878 - val_accuracy: 0.9302\n",
            "Epoch 10/50\n",
            "422/422 [==============================] - 317s 751ms/step - loss: 0.1532 - accuracy: 0.9436 - val_loss: 0.1904 - val_accuracy: 0.9303\n",
            "Epoch 11/50\n",
            "422/422 [==============================] - 313s 741ms/step - loss: 0.1435 - accuracy: 0.9473 - val_loss: 0.1971 - val_accuracy: 0.9247\n",
            "Epoch 12/50\n",
            "422/422 [==============================] - 317s 750ms/step - loss: 0.1305 - accuracy: 0.9518 - val_loss: 0.1927 - val_accuracy: 0.9310\n"
          ]
        }
      ]
    },
    {
      "cell_type": "markdown",
      "source": [
        "# Visualization"
      ],
      "metadata": {
        "id": "VptsZUo6IRCn"
      }
    },
    {
      "cell_type": "code",
      "source": [
        "import matplotlib.pyplot as plt"
      ],
      "metadata": {
        "id": "CJF7-Y5bITEu"
      },
      "execution_count": 24,
      "outputs": []
    },
    {
      "cell_type": "markdown",
      "source": [
        "First, we look at how the training and validation loss evolved during training:"
      ],
      "metadata": {
        "id": "fOdwzlX8IW8j"
      }
    },
    {
      "cell_type": "code",
      "source": [
        "losses = history.history[\"loss\"]\n",
        "val_losses = history.history[\"val_loss\"]\n",
        "epochs = range(1, len(val_losses) + 1)\n",
        "\n",
        "plt.plot(epochs, losses, color=\"red\", linestyle=\"solid\", label=\"Traininig loss\", linewidth=3)\n",
        "plt.plot(epochs, val_losses, color=\"green\", linestyle=\"solid\", label=\"Validation loss\", linewidth=3)\n",
        "\n",
        "plt.title(\"Training and validation losses\")\n",
        "plt.xlabel(\"Epochs\")\n",
        "plt.ylabel(\"Loss\")\n",
        "plt.legend()\n",
        "plt.show()"
      ],
      "metadata": {
        "colab": {
          "base_uri": "https://localhost:8080/",
          "height": 472
        },
        "id": "cmaSRvpRIZSR",
        "outputId": "d2d4c1af-64a4-4869-ef01-ea6a26af410f"
      },
      "execution_count": 25,
      "outputs": [
        {
          "output_type": "display_data",
          "data": {
            "text/plain": [
              "<Figure size 640x480 with 1 Axes>"
            ],
            "image/png": "[encoded data removed]"
          },
          "metadata": {}
        }
      ]
    },
    {
      "cell_type": "markdown",
      "source": [
        "Now, let's look at how the training and validation accuracy evolved during training:"
      ],
      "metadata": {
        "id": "idkSXW23Ibcb"
      }
    },
    {
      "cell_type": "code",
      "source": [
        "acc = history.history[\"accuracy\"]\n",
        "val_acc = history.history[\"val_accuracy\"]\n",
        "epochs = range(1, len(val_acc) + 1)\n",
        "plt.plot(epochs, acc, color=\"red\", linestyle=\"solid\", label=\"Traininig accuracy\", linewidth=3)\n",
        "plt.plot(epochs, val_acc, color=\"green\", linestyle=\"solid\", label=\"Validation accuracy\", linewidth=3)\n",
        "\n",
        "plt.title(\"Training and validation accuracy\")\n",
        "plt.xlabel(\"Epochs\")\n",
        "plt.ylabel(\"Accuracy\")\n",
        "plt.legend()\n",
        "plt.show()"
      ],
      "metadata": {
        "colab": {
          "base_uri": "https://localhost:8080/",
          "height": 472
        },
        "id": "t2Y_pt2QIdnE",
        "outputId": "53c9734c-3569-43d4-9626-e6975ab90f40"
      },
      "execution_count": 26,
      "outputs": [
        {
          "output_type": "display_data",
          "data": {
            "text/plain": [
              "<Figure size 640x480 with 1 Axes>"
            ],
            "image/png": "[encoded data removed]"
          },
          "metadata": {}
        }
      ]
    },
    {
      "cell_type": "markdown",
      "source": [
        "We can see that overfitting starts after the 6th epoch."
      ],
      "metadata": {
        "id": "QpdRyS5IZc2h"
      }
    },
    {
      "cell_type": "markdown",
      "source": [
        "# Evaluate the model"
      ],
      "metadata": {
        "id": "u7xQORbxZppP"
      }
    },
    {
      "cell_type": "markdown",
      "source": [
        "Now, we look at how our model performs on data it has never seen before."
      ],
      "metadata": {
        "id": "mAPuJQQCZsfP"
      }
    },
    {
      "cell_type": "code",
      "source": [
        "test_loss, test_acc = simple_cnn.evaluate(x_test, y_test, verbose=0)\n",
        "print(\"Test loss:\", test_loss)\n",
        "print(\"Test accuracy:\", test_acc)"
      ],
      "metadata": {
        "colab": {
          "base_uri": "https://localhost:8080/"
        },
        "id": "Fw-Hg_mxZyX_",
        "outputId": "645cd473-381d-4aeb-f86e-fff52d1b158c"
      },
      "execution_count": 27,
      "outputs": [
        {
          "output_type": "stream",
          "name": "stdout",
          "text": [
            "Test loss: 0.208261176943779\n",
            "Test accuracy: 0.9276000261306763\n"
          ]
        }
      ]
    },
    {
      "cell_type": "markdown",
      "source": [
        "We can state that our simple convnet achieves ~92.8% test accuracy on the test data."
      ],
      "metadata": {
        "id": "dvkZa9VrZ9xc"
      }
    }
  ]
}