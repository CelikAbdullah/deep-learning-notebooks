{
  "nbformat": 4,
  "nbformat_minor": 0,
  "metadata": {
    "colab": {
      "provenance": [],
      "authorship_tag": "ABX9TyM22q011jPIw74iYHu7fRfY",
      "include_colab_link": true
    },
    "kernelspec": {
      "name": "python3",
      "display_name": "Python 3"
    },
    "language_info": {
      "name": "python"
    }
  },
  "cells": [
    {
      "cell_type": "markdown",
      "metadata": {
        "id": "view-in-github",
        "colab_type": "text"
      },
      "source": [
        "<a href=\"https://colab.research.google.com/github/CelikAbdullah/deep-learning-notebooks/blob/main/Computer%20Vision/models/VGG.ipynb\" target=\"_parent\"><img src=\"https://colab.research.google.com/assets/colab-badge.svg\" alt=\"Open In Colab\"/></a>"
      ]
    },
    {
      "cell_type": "markdown",
      "source": [
        "# Libraries"
      ],
      "metadata": {
        "id": "WnHFcSfir-Es"
      }
    },
    {
      "cell_type": "code",
      "execution_count": 73,
      "metadata": {
        "id": "lzmsPij_ruHX"
      },
      "outputs": [],
      "source": [
        "from tensorflow import keras"
      ]
    },
    {
      "cell_type": "markdown",
      "source": [
        "# Define the stem"
      ],
      "metadata": {
        "id": "TrfX1Lmysi7P"
      }
    },
    {
      "cell_type": "markdown",
      "source": [
        "The stem is the part of the model that extracts coarse-level features of the input image."
      ],
      "metadata": {
        "id": "a-zVXY_psmjv"
      }
    },
    {
      "cell_type": "code",
      "source": [
        "def stem(inputs):\n",
        "  '''\n",
        "  Construct the stem component.\n",
        "  '''\n",
        "  x = keras.layers.Conv2D(filters=64,\n",
        "                          kernel_size=3,\n",
        "                          strides=1,\n",
        "                          padding=\"same\",\n",
        "                          activation=\"relu\")(inputs)\n",
        "\n",
        "  return x"
      ],
      "metadata": {
        "id": "fPd64PEcssyk"
      },
      "execution_count": 74,
      "outputs": []
    },
    {
      "cell_type": "markdown",
      "source": [
        "# Define the learner"
      ],
      "metadata": {
        "id": "WA62twwqtudG"
      }
    },
    {
      "cell_type": "code",
      "source": [
        "def learner(x, group_info):\n",
        "  '''\n",
        "  Builds the learner component of the VGG model.\n",
        "  Each learner consist of one or more convolutional groups\n",
        "\n",
        "  x         : coarse-level output feature map (from the stem component)\n",
        "  group_info    : a list of group infos (nr. of layers & their nr. of filters)\n",
        "  '''\n",
        "\n",
        "  # build each group one by one\n",
        "  for layers, filters in group_info:\n",
        "    x = group(x, layers, filters)\n",
        "\n",
        "  return x\n",
        "\n",
        "\n",
        "def group(x, layers, filters):\n",
        "  '''\n",
        "  Builds a (convolutional) groups.\n",
        "  Each group consists of one or more blocks.\n",
        "  Each block contains a sequence of conv layers followed by a\n",
        "  (max) pooling layer. The conv layers within each block has the\n",
        "  same number of filters.\n",
        "\n",
        "  x       : input to the group\n",
        "  layers  : nr. of (convolutional) layers in the group\n",
        "  filters : nr. of filters (or kernels) in each layer of the group\n",
        "  '''\n",
        "\n",
        "  # build the block of convolutional layers\n",
        "  for i in range(layers):\n",
        "    x = keras.layers.Conv2D(filters=filters,\n",
        "                            kernel_size=3,\n",
        "                            strides=1,\n",
        "                            padding=\"same\",\n",
        "                            activation=\"relu\")(x)\n",
        "\n",
        "  # put a max pooling layer at the end of each block\n",
        "  x = keras.layers.MaxPooling2D(pool_size=2, strides=2)(x)\n",
        "\n",
        "  return x"
      ],
      "metadata": {
        "id": "p05bMrYXtxxt"
      },
      "execution_count": 75,
      "outputs": []
    },
    {
      "cell_type": "markdown",
      "source": [
        "# Define the task"
      ],
      "metadata": {
        "id": "4T9LmbOK0Laz"
      }
    },
    {
      "cell_type": "markdown",
      "source": [
        "The task component implements the classifier of the VGG model. It first flattens the input so that its fully connected layers can perform their task."
      ],
      "metadata": {
        "id": "Uy7gPND-0PMS"
      }
    },
    {
      "cell_type": "code",
      "source": [
        "def task(x, classes, units=4096):\n",
        "  '''\n",
        "  Builds the task component of the VGG model.\n",
        "\n",
        "  x           : input to the task component\n",
        "  classes     : nr of classes each input image can belong to\n",
        "  '''\n",
        "\n",
        "  # flatten the input feature maps (coming from the learner component)\n",
        "  x = keras.layers.Flatten()(x)\n",
        "\n",
        "  # two dense layers (fully connected)\n",
        "  x = keras.layers.Dense(units=units, activation=\"relu\")(x)\n",
        "  x = keras.layers.Dense(units=units, activation=\"relu\")(x)\n",
        "\n",
        "  # softmax layer to output probabilities\n",
        "  x = keras.layers.Dense(classes, activation=\"softmax\")(x)\n",
        "\n",
        "  return x"
      ],
      "metadata": {
        "id": "VD9ibtx20jxH"
      },
      "execution_count": 76,
      "outputs": []
    },
    {
      "cell_type": "markdown",
      "source": [
        "# Putting all pieces together"
      ],
      "metadata": {
        "id": "rj3Gvr4O1tY7"
      }
    },
    {
      "cell_type": "code",
      "source": [
        "# Meta-parameter: list of groups: number of layers and filter size\n",
        "group_info = { 16 : [ (1, 64), (2, 128), (3, 256), (3, 512), (3, 512) ],\t\t# VGG16\n",
        "               19 : [ (1, 64), (2, 128), (4, 256), (4, 512), (4, 512) ] }\t\t# VGG19"
      ],
      "metadata": {
        "id": "uDQ1Pwxn1yyp"
      },
      "execution_count": 77,
      "outputs": []
    },
    {
      "cell_type": "code",
      "source": [
        "# define the input vector\n",
        "inputs = keras.Input(shape=(224, 224, 3))"
      ],
      "metadata": {
        "id": "Es2dJ9XH16Hk"
      },
      "execution_count": 78,
      "outputs": []
    },
    {
      "cell_type": "code",
      "source": [
        "# the stem component\n",
        "x = stem(inputs)\n",
        "\n",
        "# the learner component; let's select the VGG16 specification\n",
        "x = learner(x, group_info[16])\n",
        "\n",
        "# the task component\n",
        "outputs = task(x, 1000)\n",
        "\n",
        "# create the VGG16 model\n",
        "vgg16 = keras.Model(inputs=inputs, outputs=outputs, name=\"vgg\")"
      ],
      "metadata": {
        "id": "vpu_wDBA2DTL"
      },
      "execution_count": 79,
      "outputs": []
    },
    {
      "cell_type": "code",
      "source": [
        "# print a summary of the VGG16 model\n",
        "vgg16.summary()"
      ],
      "metadata": {
        "colab": {
          "base_uri": "https://localhost:8080/"
        },
        "id": "uG3sXig82_k5",
        "outputId": "7bd62e56-a180-4e9a-ece5-964f4196510f"
      },
      "execution_count": 80,
      "outputs": [
        {
          "output_type": "stream",
          "name": "stdout",
          "text": [
            "Model: \"vgg\"\n",
            "_________________________________________________________________\n",
            " Layer (type)                Output Shape              Param #   \n",
            "=================================================================\n",
            " input_15 (InputLayer)       [(None, 224, 224, 3)]     0         \n",
            "                                                                 \n",
            " conv2d_125 (Conv2D)         (None, 224, 224, 64)      1792      \n",
            "                                                                 \n",
            " conv2d_126 (Conv2D)         (None, 224, 224, 64)      36928     \n",
            "                                                                 \n",
            " max_pooling2d_53 (MaxPoolin  (None, 112, 112, 64)     0         \n",
            " g2D)                                                            \n",
            "                                                                 \n",
            " conv2d_127 (Conv2D)         (None, 112, 112, 128)     73856     \n",
            "                                                                 \n",
            " conv2d_128 (Conv2D)         (None, 112, 112, 128)     147584    \n",
            "                                                                 \n",
            " max_pooling2d_54 (MaxPoolin  (None, 56, 56, 128)      0         \n",
            " g2D)                                                            \n",
            "                                                                 \n",
            " conv2d_129 (Conv2D)         (None, 56, 56, 256)       295168    \n",
            "                                                                 \n",
            " conv2d_130 (Conv2D)         (None, 56, 56, 256)       590080    \n",
            "                                                                 \n",
            " conv2d_131 (Conv2D)         (None, 56, 56, 256)       590080    \n",
            "                                                                 \n",
            " max_pooling2d_55 (MaxPoolin  (None, 28, 28, 256)      0         \n",
            " g2D)                                                            \n",
            "                                                                 \n",
            " conv2d_132 (Conv2D)         (None, 28, 28, 512)       1180160   \n",
            "                                                                 \n",
            " conv2d_133 (Conv2D)         (None, 28, 28, 512)       2359808   \n",
            "                                                                 \n",
            " conv2d_134 (Conv2D)         (None, 28, 28, 512)       2359808   \n",
            "                                                                 \n",
            " max_pooling2d_56 (MaxPoolin  (None, 14, 14, 512)      0         \n",
            " g2D)                                                            \n",
            "                                                                 \n",
            " conv2d_135 (Conv2D)         (None, 14, 14, 512)       2359808   \n",
            "                                                                 \n",
            " conv2d_136 (Conv2D)         (None, 14, 14, 512)       2359808   \n",
            "                                                                 \n",
            " conv2d_137 (Conv2D)         (None, 14, 14, 512)       2359808   \n",
            "                                                                 \n",
            " max_pooling2d_57 (MaxPoolin  (None, 7, 7, 512)        0         \n",
            " g2D)                                                            \n",
            "                                                                 \n",
            " flatten_13 (Flatten)        (None, 25088)             0         \n",
            "                                                                 \n",
            " dense_39 (Dense)            (None, 4096)              102764544 \n",
            "                                                                 \n",
            " dense_40 (Dense)            (None, 4096)              16781312  \n",
            "                                                                 \n",
            " dense_41 (Dense)            (None, 1000)              4097000   \n",
            "                                                                 \n",
            "=================================================================\n",
            "Total params: 138,357,544\n",
            "Trainable params: 138,357,544\n",
            "Non-trainable params: 0\n",
            "_________________________________________________________________\n"
          ]
        }
      ]
    }
  ]
}