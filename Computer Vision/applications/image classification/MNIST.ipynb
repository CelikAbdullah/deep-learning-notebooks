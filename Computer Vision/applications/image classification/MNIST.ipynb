{
  "nbformat": 4,
  "nbformat_minor": 0,
  "metadata": {
    "colab": {
      "provenance": [],
      "authorship_tag": "ABX9TyNwdadDFD799UWeHDxuTGaN",
      "include_colab_link": true
    },
    "kernelspec": {
      "name": "python3",
      "display_name": "Python 3"
    },
    "language_info": {
      "name": "python"
    }
  },
  "cells": [
    {
      "cell_type": "markdown",
      "metadata": {
        "id": "view-in-github",
        "colab_type": "text"
      },
      "source": [
        "<a href=\"https://colab.research.google.com/github/CelikAbdullah/deep-learning-notebooks/blob/main/Computer%20Vision/applications/image%20classification/MNIST.ipynb\" target=\"_parent\"><img src=\"https://colab.research.google.com/assets/colab-badge.svg\" alt=\"Open In Colab\"/></a>"
      ]
    },
    {
      "cell_type": "markdown",
      "source": [
        "# Libraries"
      ],
      "metadata": {
        "id": "L0c134zJ7vXX"
      }
    },
    {
      "cell_type": "code",
      "execution_count": 1,
      "metadata": {
        "id": "ssqVaF1u60tv"
      },
      "outputs": [],
      "source": [
        "import numpy as np\n",
        "from tensorflow import keras"
      ]
    },
    {
      "cell_type": "markdown",
      "source": [
        "# Load MNIST dataset"
      ],
      "metadata": {
        "id": "AIQc7_0M776J"
      }
    },
    {
      "cell_type": "markdown",
      "source": [
        "MNIST is a built-in dataset in the framework. That means that it is automatically randomly shuffled and presplit into training and testing data."
      ],
      "metadata": {
        "id": "tkAL0ADd9Zmy"
      }
    },
    {
      "cell_type": "code",
      "source": [
        "# load the MNIST dataset\n",
        "(x_train, y_train), (x_test, y_test) = keras.datasets.mnist.load_data()"
      ],
      "metadata": {
        "id": "TVgd5EDO8Aed"
      },
      "execution_count": 8,
      "outputs": []
    },
    {
      "cell_type": "code",
      "source": [
        "# print the shape of training & test set\n",
        "print(x_train.shape, y_train.shape)\n",
        "print(x_test.shape, y_test.shape)"
      ],
      "metadata": {
        "colab": {
          "base_uri": "https://localhost:8080/"
        },
        "id": "u0mFNBP_9CCI",
        "outputId": "70b6ad25-0519-4ef2-82b2-33fc722f2268"
      },
      "execution_count": 9,
      "outputs": [
        {
          "output_type": "stream",
          "name": "stdout",
          "text": [
            "(60000, 28, 28) (60000,)\n",
            "(10000, 28, 28) (10000,)\n"
          ]
        }
      ]
    },
    {
      "cell_type": "markdown",
      "source": [
        "As we can see, the MNIST dataset consists of 60000 training and 10000 test examples with an even distribution across the ten digits 0 to 9.\n",
        "\n",
        "Each sample consists of a 28x28-pixel grayscale image. So, the number of channels is 1."
      ],
      "metadata": {
        "id": "AlMGOyoW9Wx3"
      }
    },
    {
      "cell_type": "markdown",
      "source": [
        "# Prepare the MNIST dataset for training"
      ],
      "metadata": {
        "id": "SFy91yNp8T6q"
      }
    },
    {
      "cell_type": "markdown",
      "source": [
        "We are able to increase the speed at which the parameters learn the optimal values and increase our chances of convergence by squashing the input values into a smaller range. Therefore, we divide each value by 255."
      ],
      "metadata": {
        "id": "kB46-uF--g5S"
      }
    },
    {
      "cell_type": "code",
      "source": [
        "# convert values to float32 & scale images to the [0,1] range\n",
        "x_train = x_train.astype(\"float32\") / 255\n",
        "x_test = x_test.astype(\"float32\") / 255"
      ],
      "metadata": {
        "id": "lgryeNfI8YS1"
      },
      "execution_count": 10,
      "outputs": []
    },
    {
      "cell_type": "code",
      "source": [
        "# print the shape of training & test set\n",
        "print(x_train.shape, y_train.shape)\n",
        "print(x_test.shape, y_test.shape)"
      ],
      "metadata": {
        "colab": {
          "base_uri": "https://localhost:8080/"
        },
        "id": "tOMIpnYDHskr",
        "outputId": "e28b7342-8759-4054-ac91-3584747dc4fd"
      },
      "execution_count": 11,
      "outputs": [
        {
          "output_type": "stream",
          "name": "stdout",
          "text": [
            "(60000, 28, 28) (60000,)\n",
            "(10000, 28, 28) (10000,)\n"
          ]
        }
      ]
    },
    {
      "cell_type": "markdown",
      "source": [
        "Let's make sure that our images have a shape of (28,28,1)."
      ],
      "metadata": {
        "id": "_3Ji17lC_b_k"
      }
    },
    {
      "cell_type": "code",
      "source": [
        "# bring images into a shape of (28,28,1)\n",
        "x_train = np.expand_dims(x_train, -1)\n",
        "x_test = np.expand_dims(x_test, -1)"
      ],
      "metadata": {
        "id": "YwLqMsAX_mhP"
      },
      "execution_count": 12,
      "outputs": []
    },
    {
      "cell_type": "code",
      "source": [
        "# print the shape of training & test set\n",
        "print(x_train.shape, y_train.shape)\n",
        "print(x_test.shape, y_test.shape)"
      ],
      "metadata": {
        "colab": {
          "base_uri": "https://localhost:8080/"
        },
        "id": "S-UAbWc3Hut5",
        "outputId": "df611b15-b885-44a8-d699-b77c2d3c8fc4"
      },
      "execution_count": 13,
      "outputs": [
        {
          "output_type": "stream",
          "name": "stdout",
          "text": [
            "(60000, 28, 28, 1) (60000,)\n",
            "(10000, 28, 28, 1) (10000,)\n"
          ]
        }
      ]
    },
    {
      "cell_type": "markdown",
      "source": [
        "In order to compare our output vector, we need a 10-element vector as label. So, we have to convert the scalar-value labels into 10-element vectors with a 1 in the corresponding index.\n",
        "This is known as one-hot encoding.\n",
        "\n",
        "In Keras, we can achieve one-hot encoding of labels via the helper method to_categorical."
      ],
      "metadata": {
        "id": "A5azpM29_5GB"
      }
    },
    {
      "cell_type": "code",
      "source": [
        "# we have 10 digits\n",
        "num_classes = 10\n",
        "\n",
        "y_train = keras.utils.to_categorical(y_train, num_classes)\n",
        "y_test = keras.utils.to_categorical(y_test, num_classes)"
      ],
      "metadata": {
        "id": "3y96wwDf__jT"
      },
      "execution_count": 15,
      "outputs": []
    },
    {
      "cell_type": "code",
      "source": [
        "print(x_train.shape, y_train.shape)\n",
        "print(x_test.shape, y_test.shape)"
      ],
      "metadata": {
        "colab": {
          "base_uri": "https://localhost:8080/"
        },
        "id": "WhacwTLuIV2g",
        "outputId": "1f23fe34-0c1f-44c0-b2dc-2453698caa50"
      },
      "execution_count": 16,
      "outputs": [
        {
          "output_type": "stream",
          "name": "stdout",
          "text": [
            "(60000, 28, 28, 1) (60000, 10)\n",
            "(10000, 28, 28, 1) (10000, 10)\n"
          ]
        }
      ]
    },
    {
      "cell_type": "markdown",
      "source": [
        "# Build the model"
      ],
      "metadata": {
        "id": "12yKOaARBqqQ"
      }
    },
    {
      "cell_type": "markdown",
      "source": [
        "We build a very simple CNN."
      ],
      "metadata": {
        "id": "mZ1J7HCfCE0X"
      }
    },
    {
      "cell_type": "code",
      "source": [
        "def get_model(shape=(28,28,1)):\n",
        "  inputs = keras.Input(shape=shape)\n",
        "\n",
        "  # 1st conv layer + max pooling\n",
        "  x = keras.layers.Conv2D(filters=32, kernel_size=3, activation=\"relu\")(inputs)\n",
        "  x = keras.layers.MaxPooling2D(pool_size=2)(x)\n",
        "\n",
        "  # 2nd conv layer + max pooling\n",
        "  x = keras.layers.Conv2D(filters=64, kernel_size=3, activation=\"relu\")(x)\n",
        "  x = keras.layers.MaxPooling2D(pool_size=2)(x)\n",
        "\n",
        "  # flatten the input for the dense layer\n",
        "  x = keras.layers.Flatten()(x)\n",
        "\n",
        "  # apply dropout for regularization to combat overfitting that might occur\n",
        "  x = keras.layers.Dropout(0.5)(x)\n",
        "\n",
        "  # softmax layer\n",
        "  outputs = keras.layers.Dense(units=num_classes, activation=\"softmax\")(x)\n",
        "\n",
        "  # build the model\n",
        "  model = keras.Model(inputs=inputs, outputs = outputs, name=\"simple_cnn_for_mnist\")\n",
        "\n",
        "  return model"
      ],
      "metadata": {
        "id": "4vcfQrGEBs3N"
      },
      "execution_count": 19,
      "outputs": []
    },
    {
      "cell_type": "code",
      "source": [
        "# create our simple CNN\n",
        "simple_cnn = get_model()"
      ],
      "metadata": {
        "id": "hory7xW5JO8g"
      },
      "execution_count": 29,
      "outputs": []
    },
    {
      "cell_type": "code",
      "source": [
        "# print a summary of our CNN\n",
        "simple_cnn.summary()"
      ],
      "metadata": {
        "colab": {
          "base_uri": "https://localhost:8080/"
        },
        "id": "INaSE2_hJR82",
        "outputId": "5ee5ccb9-485b-44df-ab5e-22808272ed17"
      },
      "execution_count": 30,
      "outputs": [
        {
          "output_type": "stream",
          "name": "stdout",
          "text": [
            "Model: \"simple_cnn_for_mnist\"\n",
            "_________________________________________________________________\n",
            " Layer (type)                Output Shape              Param #   \n",
            "=================================================================\n",
            " input_5 (InputLayer)        [(None, 28, 28, 1)]       0         \n",
            "                                                                 \n",
            " conv2d_8 (Conv2D)           (None, 26, 26, 32)        320       \n",
            "                                                                 \n",
            " max_pooling2d_8 (MaxPooling  (None, 13, 13, 32)       0         \n",
            " 2D)                                                             \n",
            "                                                                 \n",
            " conv2d_9 (Conv2D)           (None, 11, 11, 64)        18496     \n",
            "                                                                 \n",
            " max_pooling2d_9 (MaxPooling  (None, 5, 5, 64)         0         \n",
            " 2D)                                                             \n",
            "                                                                 \n",
            " flatten_4 (Flatten)         (None, 1600)              0         \n",
            "                                                                 \n",
            " dropout_4 (Dropout)         (None, 1600)              0         \n",
            "                                                                 \n",
            " dense_4 (Dense)             (None, 10)                16010     \n",
            "                                                                 \n",
            "=================================================================\n",
            "Total params: 34,826\n",
            "Trainable params: 34,826\n",
            "Non-trainable params: 0\n",
            "_________________________________________________________________\n"
          ]
        }
      ]
    },
    {
      "cell_type": "markdown",
      "source": [
        "# Compile the model"
      ],
      "metadata": {
        "id": "Jt6QD_HmDVn3"
      }
    },
    {
      "cell_type": "code",
      "source": [
        "# define the optimizer\n",
        "optimizer = \"adam\"\n",
        "\n",
        "# define the loss function\n",
        "loss=\"categorical_crossentropy\"\n",
        "\n",
        "# define the metrics list\n",
        "metrics=[\"accuracy\"]\n",
        "\n",
        "# compile the model\n",
        "simple_cnn.compile(optimizer=optimizer,\n",
        "                   loss=loss,\n",
        "                   metrics=metrics)"
      ],
      "metadata": {
        "id": "BHok6_UzDbk6"
      },
      "execution_count": 31,
      "outputs": []
    },
    {
      "cell_type": "markdown",
      "source": [
        "# Define callbacks"
      ],
      "metadata": {
        "id": "ZIME8g20F2Gy"
      }
    },
    {
      "cell_type": "code",
      "source": [
        "# define the filepath\n",
        "filepath = \"my_simple_cnn.keras\"\n",
        "\n",
        "# the ModelCheckpoint callback will save the checkpoint only if the\n",
        "# validation loss is smaller than the last checkpoint\n",
        "checkpoint = keras.callbacks.ModelCheckpoint(filepath, save_best_only=True, monitor=\"val_loss\")\n",
        "\n",
        "# the EarlyStopping callback sets an early stop when the validation\n",
        "# loss has stopped reducing for 3 epochs\n",
        "earlystop = keras.callbacks.EarlyStopping(monitor=\"val_loss\", patience=3)"
      ],
      "metadata": {
        "id": "z_hm05a6F5H1"
      },
      "execution_count": 32,
      "outputs": []
    },
    {
      "cell_type": "markdown",
      "source": [
        "# Train"
      ],
      "metadata": {
        "id": "KLCv0BMBDr_c"
      }
    },
    {
      "cell_type": "markdown",
      "source": [
        "During the training, we use 10% of the training set as validation."
      ],
      "metadata": {
        "id": "_fElndaYEDPi"
      }
    },
    {
      "cell_type": "code",
      "source": [
        "history = simple_cnn.fit(x_train,\n",
        "                         y_train,\n",
        "                         batch_size=128,\n",
        "                         epochs=50,\n",
        "                         callbacks = [checkpoint, earlystop],\n",
        "                         validation_split=0.1)"
      ],
      "metadata": {
        "colab": {
          "base_uri": "https://localhost:8080/"
        },
        "id": "z3py_jxeDws7",
        "outputId": "acba3e04-039f-4e8b-d3cb-613112d119a6"
      },
      "execution_count": 33,
      "outputs": [
        {
          "output_type": "stream",
          "name": "stdout",
          "text": [
            "Epoch 1/50\n",
            "422/422 [==============================] - 53s 124ms/step - loss: 0.3746 - accuracy: 0.8874 - val_loss: 0.0837 - val_accuracy: 0.9775\n",
            "Epoch 2/50\n",
            "422/422 [==============================] - 49s 116ms/step - loss: 0.1141 - accuracy: 0.9649 - val_loss: 0.0604 - val_accuracy: 0.9847\n",
            "Epoch 3/50\n",
            "422/422 [==============================] - 48s 113ms/step - loss: 0.0845 - accuracy: 0.9744 - val_loss: 0.0474 - val_accuracy: 0.9862\n",
            "Epoch 4/50\n",
            "422/422 [==============================] - 49s 115ms/step - loss: 0.0723 - accuracy: 0.9772 - val_loss: 0.0440 - val_accuracy: 0.9875\n",
            "Epoch 5/50\n",
            "422/422 [==============================] - 47s 111ms/step - loss: 0.0638 - accuracy: 0.9800 - val_loss: 0.0390 - val_accuracy: 0.9898\n",
            "Epoch 6/50\n",
            "422/422 [==============================] - 45s 107ms/step - loss: 0.0558 - accuracy: 0.9829 - val_loss: 0.0388 - val_accuracy: 0.9898\n",
            "Epoch 7/50\n",
            "422/422 [==============================] - 47s 111ms/step - loss: 0.0531 - accuracy: 0.9834 - val_loss: 0.0357 - val_accuracy: 0.9897\n",
            "Epoch 8/50\n",
            "422/422 [==============================] - 45s 107ms/step - loss: 0.0472 - accuracy: 0.9854 - val_loss: 0.0346 - val_accuracy: 0.9907\n",
            "Epoch 9/50\n",
            "422/422 [==============================] - 46s 110ms/step - loss: 0.0452 - accuracy: 0.9858 - val_loss: 0.0331 - val_accuracy: 0.9912\n",
            "Epoch 10/50\n",
            "422/422 [==============================] - 45s 107ms/step - loss: 0.0416 - accuracy: 0.9865 - val_loss: 0.0302 - val_accuracy: 0.9912\n",
            "Epoch 11/50\n",
            "422/422 [==============================] - 46s 110ms/step - loss: 0.0386 - accuracy: 0.9876 - val_loss: 0.0310 - val_accuracy: 0.9913\n",
            "Epoch 12/50\n",
            "422/422 [==============================] - 45s 106ms/step - loss: 0.0375 - accuracy: 0.9880 - val_loss: 0.0309 - val_accuracy: 0.9925\n",
            "Epoch 13/50\n",
            "422/422 [==============================] - 46s 109ms/step - loss: 0.0361 - accuracy: 0.9884 - val_loss: 0.0306 - val_accuracy: 0.9907\n"
          ]
        }
      ]
    },
    {
      "cell_type": "markdown",
      "source": [
        "# Visualization"
      ],
      "metadata": {
        "id": "TiYOmpFdMSka"
      }
    },
    {
      "cell_type": "code",
      "source": [
        "import matplotlib.pyplot as plt"
      ],
      "metadata": {
        "id": "MVc4BuB3MeRa"
      },
      "execution_count": 34,
      "outputs": []
    },
    {
      "cell_type": "markdown",
      "source": [
        "First, we look at how the training and validation loss evolved during training:"
      ],
      "metadata": {
        "id": "5so7_67BMuTF"
      }
    },
    {
      "cell_type": "code",
      "source": [
        "losses = history.history[\"loss\"]\n",
        "val_losses = history.history[\"val_loss\"]\n",
        "epochs = range(1, len(val_losses) + 1)\n",
        "\n",
        "plt.plot(epochs, losses, color=\"red\", linestyle=\"solid\", label=\"Traininig loss\", linewidth=3)\n",
        "plt.plot(epochs, val_losses, color=\"green\", linestyle=\"solid\", label=\"Validation loss\", linewidth=3)\n",
        "\n",
        "plt.title(\"Training and validation losses\")\n",
        "plt.xlabel(\"Epochs\")\n",
        "plt.ylabel(\"Loss\")\n",
        "plt.legend()\n",
        "plt.show()"
      ],
      "metadata": {
        "colab": {
          "base_uri": "https://localhost:8080/",
          "height": 472
        },
        "id": "kcg_WopcMU3i",
        "outputId": "9272dd16-609c-4218-c0eb-caf4380da32c"
      },
      "execution_count": 35,
      "outputs": [
        {
          "output_type": "display_data",
          "data": {
            "text/plain": [
              "<Figure size 640x480 with 1 Axes>"
            ],
            "image/png": "[encoded data removed]"
          },
          "metadata": {}
        }
      ]
    },
    {
      "cell_type": "markdown",
      "source": [
        "Now, let's look at how the training and validation accuracy evolved during training:"
      ],
      "metadata": {
        "id": "8Ub-KnxbM8Rl"
      }
    },
    {
      "cell_type": "code",
      "source": [
        "acc = history.history[\"accuracy\"]\n",
        "val_acc = history.history[\"val_accuracy\"]\n",
        "epochs = range(1, len(val_acc) + 1)\n",
        "plt.plot(epochs, acc, color=\"red\", linestyle=\"solid\", label=\"Traininig accuracy\", linewidth=3)\n",
        "plt.plot(epochs, val_acc, color=\"green\", linestyle=\"solid\", label=\"Validation accuracy\", linewidth=3)\n",
        "\n",
        "plt.title(\"Training and validation accuracy\")\n",
        "plt.xlabel(\"Epochs\")\n",
        "plt.ylabel(\"Accuracy\")\n",
        "plt.legend()\n",
        "plt.show()"
      ],
      "metadata": {
        "colab": {
          "base_uri": "https://localhost:8080/",
          "height": 472
        },
        "id": "FcLw_USnMqUX",
        "outputId": "bf9e90a7-52c7-468a-eaad-aa1e7e8902bc"
      },
      "execution_count": 36,
      "outputs": [
        {
          "output_type": "display_data",
          "data": {
            "text/plain": [
              "<Figure size 640x480 with 1 Axes>"
            ],
            "image/png": "[encoded data removed]"
          },
          "metadata": {}
        }
      ]
    },
    {
      "cell_type": "markdown",
      "source": [
        "# Evaluate the model"
      ],
      "metadata": {
        "id": "cAbNEeoMNHwN"
      }
    },
    {
      "cell_type": "markdown",
      "source": [
        "Now, we look at how our model performs on data it never has seen before."
      ],
      "metadata": {
        "id": "4L5RDFReNRik"
      }
    },
    {
      "cell_type": "code",
      "source": [
        "test_loss, test_acc = simple_cnn.evaluate(x_test, y_test, verbose=0)\n",
        "print(\"Test loss:\", test_loss)\n",
        "print(\"Test accuracy:\", test_acc)"
      ],
      "metadata": {
        "colab": {
          "base_uri": "https://localhost:8080/"
        },
        "id": "M6vcEuNNNNSC",
        "outputId": "9b673d3c-94e9-444e-ae1c-2bce5b2bb673"
      },
      "execution_count": 37,
      "outputs": [
        {
          "output_type": "stream",
          "name": "stdout",
          "text": [
            "Test loss: 0.02899196557700634\n",
            "Test accuracy: 0.9901999831199646\n"
          ]
        }
      ]
    },
    {
      "cell_type": "markdown",
      "source": [
        "We can state that our simple convnet achieves 99% test accuracy on the test data."
      ],
      "metadata": {
        "id": "Uck0IAMXNnuk"
      }
    }
  ]
}